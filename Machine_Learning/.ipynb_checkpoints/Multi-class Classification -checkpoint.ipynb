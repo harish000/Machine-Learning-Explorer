{
 "cells": [
  {
   "cell_type": "code",
   "execution_count": 3,
   "metadata": {
    "collapsed": true
   },
   "outputs": [],
   "source": [
    "import pandas as pd\n",
    "import numpy as np\n",
    "import matplotlib as mpl\n",
    "import matplotlib.pyplot as plt\n",
    "\n",
    "import scipy\n",
    "\n",
    "from scipy.io import loadmat\n",
    "from scipy.optimize import minimize\n",
    "\n",
    "%matplotlib inline\n"
   ]
  },
  {
   "cell_type": "markdown",
   "metadata": {},
   "source": [
    "# Multi-class Classification"
   ]
  },
  {
   "cell_type": "code",
   "execution_count": 4,
   "metadata": {
    "collapsed": false
   },
   "outputs": [
    {
     "name": "stdout",
     "output_type": "stream",
     "text": [
      "dict_keys(['__globals__', 'X', '__version__', '__header__', 'y'])\n"
     ]
    }
   ],
   "source": [
    "data = loadmat(\"ex3data1.mat\")\n",
    "print(data.keys())"
   ]
  },
  {
   "cell_type": "code",
   "execution_count": 6,
   "metadata": {
    "collapsed": true
   },
   "outputs": [],
   "source": [
    "X = np.c_[np.ones(data['X'].shape[0]), data['X']]\n",
    "y = data['y']"
   ]
  },
  {
   "cell_type": "code",
   "execution_count": 7,
   "metadata": {
    "collapsed": false
   },
   "outputs": [
    {
     "data": {
      "image/png": "[encoded data removed]",
      "text/plain": [
       "<matplotlib.figure.Figure at 0x1b281cfc3c8>"
      ]
     },
     "metadata": {},
     "output_type": "display_data"
    }
   ],
   "source": [
    "randSelect = np.random.choice(X.shape[0],20)\n",
    "plt.imshow(X[randSelect,1:].reshape(-1,20).T)\n",
    "plt.axis('off');"
   ]
  },
  {
   "cell_type": "markdown",
   "metadata": {},
   "source": [
    "##### Use the same code from Logistic Regression"
   ]
  },
  {
   "cell_type": "code",
   "execution_count": 8,
   "metadata": {
    "collapsed": true
   },
   "outputs": [],
   "source": [
    "def sigmoid(z):\n",
    "    return scipy.special.expit(z)"
   ]
  },
  {
   "cell_type": "code",
   "execution_count": 70,
   "metadata": {
    "collapsed": true
   },
   "outputs": [],
   "source": [
    "def costFunctionReg(theta, reg, X,y):\n",
    "    m = y.size\n",
    "    h = scipy.special.expit(X.dot(theta))\n",
    "    J = (-1/m) * (np.log(h).T.dot(y) + np.log(1-h.T).dot(1-y)) + (reg/(2*m)) * np.sum(np.square(theta[1:]))\n",
    "    \n",
    "    if(np.isnan(J[0])):\n",
    "        return np.inf\n",
    "    return(J[0])"
   ]
  },
  {
   "cell_type": "code",
   "execution_count": 74,
   "metadata": {
    "collapsed": false
   },
   "outputs": [],
   "source": [
    "def gradientReg(theta,reg,X,y):\n",
    "    m = y.size\n",
    "    h = scipy.special.expit(X.dot(theta.reshape(-1,1)))\n",
    "    grad = 1/m * X.T.dot(h-y) + (reg/m)*np.r_[[[0]],theta[1:].reshape(-1,1)]\n",
    "    return(grad.flatten())"
   ]
  },
  {
   "cell_type": "code",
   "execution_count": 72,
   "metadata": {
    "collapsed": false
   },
   "outputs": [
    {
     "data": {
      "text/plain": [
       "160.39425758157125"
      ]
     },
     "execution_count": 72,
     "metadata": {},
     "output_type": "execute_result"
    }
   ],
   "source": [
    "initial_theta = np.zeros(X.shape[1])\n",
    "costFunctionReg(initial_theta,1,X,y)"
   ]
  },
  {
   "cell_type": "code",
   "execution_count": 83,
   "metadata": {
    "collapsed": true
   },
   "outputs": [],
   "source": [
    "def oneVsAll(X, y, nLabels, reg):\n",
    "    initial_theta = np.zeros((X.shape[1],1))\n",
    "    all_theta = np.zeros((nLabels, X.shape[1]))\n",
    "    for c in np.arange(1, nLabels+1):\n",
    "        optimizeCF_reg = minimize(costFunctionReg,initial_theta, args=(reg,X,(y==c)*1), method=None, \n",
    "                                  jac=gradientReg, options={'maxiter':500})\n",
    "        all_theta[c-1] = optimizeCF_reg.x\n",
    "    return all_theta"
   ]
  },
  {
   "cell_type": "code",
   "execution_count": 84,
   "metadata": {
    "collapsed": true
   },
   "outputs": [],
   "source": [
    "theta = oneVsAll(X,y,10,0.2)"
   ]
  },
  {
   "cell_type": "code",
   "execution_count": 85,
   "metadata": {
    "collapsed": false
   },
   "outputs": [
    {
     "data": {
      "text/plain": [
       "array([[ -2.87802742e+00,   0.00000000e+00,   0.00000000e+00, ...,\n",
       "          4.55366668e-03,   3.50378175e-08,   0.00000000e+00],\n",
       "       [ -3.52255282e+00,   0.00000000e+00,   0.00000000e+00, ...,\n",
       "          1.28140508e-02,  -1.45382543e-03,   0.00000000e+00],\n",
       "       [ -5.39301342e+00,   0.00000000e+00,   0.00000000e+00, ...,\n",
       "         -5.85981173e-05,  -3.49832007e-07,   0.00000000e+00],\n",
       "       ..., \n",
       "       [ -8.77133782e+00,   0.00000000e+00,   0.00000000e+00, ...,\n",
       "         -2.91696667e-04,   2.97872690e-05,   0.00000000e+00],\n",
       "       [ -5.26101358e+00,   0.00000000e+00,   0.00000000e+00, ...,\n",
       "         -6.59959213e-03,   5.04472783e-04,   0.00000000e+00],\n",
       "       [ -6.93258979e+00,   0.00000000e+00,   0.00000000e+00, ...,\n",
       "         -1.30089247e-04,   5.93662012e-06,   0.00000000e+00]])"
      ]
     },
     "execution_count": 85,
     "metadata": {},
     "output_type": "execute_result"
    }
   ],
   "source": [
    "theta"
   ]
  },
  {
   "cell_type": "code",
   "execution_count": 86,
   "metadata": {
    "collapsed": false
   },
   "outputs": [],
   "source": [
    "def predictOneVsAll(all_theta, X):\n",
    "    probs = sigmoid(X.dot(all_theta.T))\n",
    "    # Adding one because Python uses zero based indexing for the 10 columns (0-9),\n",
    "    # while the 10 classes are numbered from 1 to 10.\n",
    "    return(np.argmax(probs, axis=1)+1)"
   ]
  },
  {
   "cell_type": "code",
   "execution_count": 97,
   "metadata": {
    "collapsed": false
   },
   "outputs": [
    {
     "name": "stdout",
     "output_type": "stream",
     "text": [
      "[10 10 10 ...,  9  9  7]\n",
      "Training set accuracy: 95.86 %\n"
     ]
    }
   ],
   "source": [
    "pred = predictOneVsAll(theta, X)\n",
    "print(pred)\n",
    "print('Training set accuracy: {} %'.format(np.mean(pred == y.ravel())*100))"
   ]
  }
 ],
 "metadata": {
  "anaconda-cloud": {},
  "kernelspec": {
   "display_name": "Python [Root]",
   "language": "python",
   "name": "Python [Root]"
  },
  "language_info": {
   "codemirror_mode": {
    "name": "ipython",
    "version": 3
   },
   "file_extension": ".py",
   "mimetype": "text/x-python",
   "name": "python",
   "nbconvert_exporter": "python",
   "pygments_lexer": "ipython3",
   "version": "3.5.2"
  }
 },
 "nbformat": 4,
 "nbformat_minor": 0
}
