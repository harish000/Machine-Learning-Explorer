{
 "cells": [
  {
   "cell_type": "code",
   "execution_count": 1,
   "metadata": {
    "collapsed": true
   },
   "outputs": [],
   "source": [
    "import nltk"
   ]
  },
  {
   "cell_type": "code",
   "execution_count": 3,
   "metadata": {
    "collapsed": false
   },
   "outputs": [
    {
     "data": {
      "text/plain": [
       "{'last_letter': 'k'}"
      ]
     },
     "execution_count": 3,
     "metadata": {},
     "output_type": "execute_result"
    }
   ],
   "source": [
    "def gender_features(word):\n",
    "...     return {'last_letter': word[-1]}\n",
    "gender_features('Shrek')"
   ]
  },
  {
   "cell_type": "code",
   "execution_count": 4,
   "metadata": {
    "collapsed": true
   },
   "outputs": [],
   "source": [
    "from nltk.corpus import names\n",
    "labeled_names = ([(name, 'male') for name in names.words('male.txt')] +\n",
    "... [(name, 'female') for name in names.words('female.txt')])\n",
    "import random\n",
    "random.shuffle(labeled_names)"
   ]
  },
  {
   "cell_type": "code",
   "execution_count": 5,
   "metadata": {
    "collapsed": true
   },
   "outputs": [],
   "source": [
    "featuresets = [(gender_features(n), gender) for (n, gender) in labeled_names]\n",
    "train_set, test_set = featuresets[500:], featuresets[:500]\n",
    "classifier = nltk.NaiveBayesClassifier.train(train_set)"
   ]
  },
  {
   "cell_type": "code",
   "execution_count": 6,
   "metadata": {
    "collapsed": false
   },
   "outputs": [
    {
     "data": {
      "text/plain": [
       "'male'"
      ]
     },
     "execution_count": 6,
     "metadata": {},
     "output_type": "execute_result"
    }
   ],
   "source": [
    "classifier.classify(gender_features('Neo'))\n"
   ]
  },
  {
   "cell_type": "code",
   "execution_count": 7,
   "metadata": {
    "collapsed": false
   },
   "outputs": [
    {
     "data": {
      "text/plain": [
       "'female'"
      ]
     },
     "execution_count": 7,
     "metadata": {},
     "output_type": "execute_result"
    }
   ],
   "source": [
    "classifier.classify(gender_features('Trinity'))\n"
   ]
  },
  {
   "cell_type": "code",
   "execution_count": 8,
   "metadata": {
    "collapsed": false
   },
   "outputs": [
    {
     "name": "stdout",
     "output_type": "stream",
     "text": [
      "0.778\n"
     ]
    }
   ],
   "source": [
    "print(nltk.classify.accuracy(classifier, test_set))\n"
   ]
  },
  {
   "cell_type": "code",
   "execution_count": 9,
   "metadata": {
    "collapsed": false
   },
   "outputs": [
    {
     "name": "stdout",
     "output_type": "stream",
     "text": [
      "Most Informative Features\n",
      "             last_letter = 'a'            female : male   =     35.7 : 1.0\n",
      "             last_letter = 'k'              male : female =     33.3 : 1.0\n",
      "             last_letter = 'f'              male : female =     15.3 : 1.0\n",
      "             last_letter = 'p'              male : female =     11.2 : 1.0\n",
      "             last_letter = 'v'              male : female =     10.5 : 1.0\n"
     ]
    }
   ],
   "source": [
    "classifier.show_most_informative_features(5)\n"
   ]
  },
  {
   "cell_type": "code",
   "execution_count": 10,
   "metadata": {
    "collapsed": true
   },
   "outputs": [],
   "source": [
    "def gender_features2(name):\n",
    "    features = {}\n",
    "    features[\"first_letter\"] = name[0].lower()\n",
    "    features[\"last_letter\"] = name[-1].lower()\n",
    "    for letter in 'abcdefghijklmnopqrstuvwxyz':\n",
    "        features[\"count({})\".format(letter)] = name.lower().count(letter)\n",
    "        features[\"has({})\".format(letter)] = (letter in name.lower())\n",
    "    return features"
   ]
  },
  {
   "cell_type": "code",
   "execution_count": 11,
   "metadata": {
    "collapsed": false
   },
   "outputs": [
    {
     "name": "stdout",
     "output_type": "stream",
     "text": [
      "0.77\n"
     ]
    }
   ],
   "source": [
    "featuresets = [(gender_features2(n), gender) for (n, gender) in labeled_names]\n",
    "train_set, test_set = featuresets[500:], featuresets[:500]\n",
    "classifier = nltk.NaiveBayesClassifier.train(train_set)\n",
    "print(nltk.classify.accuracy(classifier, test_set))"
   ]
  },
  {
   "cell_type": "code",
   "execution_count": 12,
   "metadata": {
    "collapsed": true
   },
   "outputs": [],
   "source": [
    "train_names = labeled_names[1500:]\n",
    "devtest_names = labeled_names[500:1500]\n",
    "test_names = labeled_names[:500]"
   ]
  },
  {
   "cell_type": "code",
   "execution_count": 13,
   "metadata": {
    "collapsed": false
   },
   "outputs": [
    {
     "name": "stdout",
     "output_type": "stream",
     "text": [
      "0.739\n"
     ]
    }
   ],
   "source": [
    "train_set = [(gender_features(n), gender) for (n, gender) in train_names]\n",
    "devtest_set = [(gender_features(n), gender) for (n, gender) in devtest_names]\n",
    "test_set = [(gender_features(n), gender) for (n, gender) in test_names]\n",
    "classifier = nltk.NaiveBayesClassifier.train(train_set) \n",
    "print(nltk.classify.accuracy(classifier, devtest_set))"
   ]
  },
  {
   "cell_type": "code",
   "execution_count": 14,
   "metadata": {
    "collapsed": true
   },
   "outputs": [],
   "source": [
    "errors = []\n",
    "for (name, tag) in devtest_names:\n",
    "...     guess = classifier.classify(gender_features(name))\n",
    "...     if guess != tag:\n",
    "...         errors.append( (tag, guess, name) )"
   ]
  },
  {
   "cell_type": "code",
   "execution_count": 16,
   "metadata": {
    "collapsed": false
   },
   "outputs": [
    {
     "name": "stdout",
     "output_type": "stream",
     "text": [
      "correct=female   guess=male     name=Abagael                       \n",
      "correct=female   guess=male     name=Adel                          \n",
      "correct=female   guess=male     name=Annabell                      \n",
      "correct=female   guess=male     name=Arabel                        \n",
      "correct=female   guess=male     name=Aurel                         \n",
      "correct=female   guess=male     name=Berget                        \n",
      "correct=female   guess=male     name=Bess                          \n",
      "correct=female   guess=male     name=Bidget                        \n",
      "correct=female   guess=male     name=Birgit                        \n",
      "correct=female   guess=male     name=Brenn                         \n",
      "correct=female   guess=male     name=Bryn                          \n",
      "correct=female   guess=male     name=Caril                         \n",
      "correct=female   guess=male     name=Carmen                        \n",
      "correct=female   guess=male     name=Carroll                       \n",
      "correct=female   guess=male     name=Charmion                      \n",
      "correct=female   guess=male     name=Cheryl                        \n",
      "correct=female   guess=male     name=Chriss                        \n",
      "correct=female   guess=male     name=Christabel                    \n",
      "correct=female   guess=male     name=Christan                      \n",
      "correct=female   guess=male     name=Cinnamon                      \n",
      "correct=female   guess=male     name=Corabel                       \n",
      "correct=female   guess=male     name=Coralyn                       \n",
      "correct=female   guess=male     name=Corliss                       \n",
      "correct=female   guess=male     name=Cris                          \n",
      "correct=female   guess=male     name=Cristin                       \n",
      "correct=female   guess=male     name=Dagmar                        \n",
      "correct=female   guess=male     name=Deb                           \n",
      "correct=female   guess=male     name=Dian                          \n",
      "correct=female   guess=male     name=Dido                          \n",
      "correct=female   guess=male     name=Doll                          \n",
      "correct=female   guess=male     name=Dot                           \n",
      "correct=female   guess=male     name=Drew                          \n",
      "correct=female   guess=male     name=Dyan                          \n",
      "correct=female   guess=male     name=Eleanor                       \n",
      "correct=female   guess=male     name=Evaleen                       \n",
      "correct=female   guess=male     name=Frances                       \n",
      "correct=female   guess=male     name=Fred                          \n",
      "correct=female   guess=male     name=Germain                       \n",
      "correct=female   guess=male     name=Gert                          \n",
      "correct=female   guess=male     name=Gillian                       \n",
      "correct=female   guess=male     name=Glad                          \n",
      "correct=female   guess=male     name=Glenn                         \n",
      "correct=female   guess=male     name=Glennis                       \n",
      "correct=female   guess=male     name=Glynnis                       \n",
      "correct=female   guess=male     name=Guendolen                     \n",
      "correct=female   guess=male     name=Gus                           \n",
      "correct=female   guess=male     name=Harriet                       \n",
      "correct=female   guess=male     name=Harriott                      \n",
      "correct=female   guess=male     name=Hedwig                        \n",
      "correct=female   guess=male     name=Hester                        \n",
      "correct=female   guess=male     name=Hildagard                     \n",
      "correct=female   guess=male     name=Ingaborg                      \n",
      "correct=female   guess=male     name=Isador                        \n",
      "correct=female   guess=male     name=Isis                          \n",
      "correct=female   guess=male     name=Jaquelin                      \n",
      "correct=female   guess=male     name=Jerrilyn                      \n",
      "correct=female   guess=male     name=Jilleen                       \n",
      "correct=female   guess=male     name=Jordain                       \n",
      "correct=female   guess=male     name=Joycelin                      \n",
      "correct=female   guess=male     name=Justin                        \n",
      "correct=female   guess=male     name=Karin                         \n",
      "correct=female   guess=male     name=Kaster                        \n",
      "correct=female   guess=male     name=Katheleen                     \n",
      "correct=female   guess=male     name=Katheryn                      \n",
      "correct=female   guess=male     name=Kathryn                       \n",
      "correct=female   guess=male     name=Kerrin                        \n",
      "correct=female   guess=male     name=Kiersten                      \n",
      "correct=female   guess=male     name=Kim                           \n",
      "correct=female   guess=male     name=Kirstyn                       \n",
      "correct=female   guess=male     name=Kym                           \n",
      "correct=female   guess=male     name=Laural                        \n",
      "correct=female   guess=male     name=Laureen                       \n",
      "correct=female   guess=male     name=Lian                          \n",
      "correct=female   guess=male     name=Lilas                         \n",
      "correct=female   guess=male     name=Lilian                        \n",
      "correct=female   guess=male     name=Lilias                        \n",
      "correct=female   guess=male     name=Lin                           \n",
      "correct=female   guess=male     name=Linn                          \n",
      "correct=female   guess=male     name=Liz                           \n",
      "correct=female   guess=male     name=Lynnett                       \n",
      "correct=female   guess=male     name=Madalyn                       \n",
      "correct=female   guess=male     name=Maren                         \n",
      "correct=female   guess=male     name=Margalit                      \n",
      "correct=female   guess=male     name=Margot                        \n",
      "correct=female   guess=male     name=Maribel                       \n",
      "correct=female   guess=male     name=Mariel                        \n",
      "correct=female   guess=male     name=Marlo                         \n",
      "correct=female   guess=male     name=Marylou                       \n",
      "correct=female   guess=male     name=Maud                          \n",
      "correct=female   guess=male     name=Mead                          \n",
      "correct=female   guess=male     name=Melicent                      \n",
      "correct=female   guess=male     name=Michell                       \n",
      "correct=female   guess=male     name=Mikako                        \n",
      "correct=female   guess=male     name=Mildred                       \n",
      "correct=female   guess=male     name=Milissent                     \n",
      "correct=female   guess=male     name=Millicent                     \n",
      "correct=female   guess=male     name=Millisent                     \n",
      "correct=female   guess=male     name=Min                           \n",
      "correct=female   guess=male     name=Morgan                        \n",
      "correct=female   guess=male     name=Nadean                        \n",
      "correct=female   guess=male     name=Nanon                         \n",
      "correct=female   guess=male     name=Noell                         \n",
      "correct=female   guess=male     name=Opal                          \n",
      "correct=female   guess=male     name=Phylis                        \n",
      "correct=female   guess=male     name=Pru                           \n",
      "correct=female   guess=male     name=Rhianon                       \n",
      "correct=female   guess=male     name=Robbin                        \n",
      "correct=female   guess=male     name=Robinet                       \n",
      "correct=female   guess=male     name=Rosaleen                      \n",
      "correct=female   guess=male     name=Rosalynd                      \n",
      "correct=female   guess=male     name=Ruthann                       \n",
      "correct=female   guess=male     name=Shaylyn                       \n",
      "correct=female   guess=male     name=Sheila-Kathryn                \n",
      "correct=female   guess=male     name=Shell                         \n",
      "correct=female   guess=male     name=Sheryl                        \n",
      "correct=female   guess=male     name=Shir                          \n",
      "correct=female   guess=male     name=Siobhan                       \n",
      "correct=female   guess=male     name=Tamiko                        \n",
      "correct=female   guess=male     name=Veradis                       \n",
      "correct=female   guess=male     name=Wandis                        \n",
      "correct=female   guess=male     name=Wynn                          \n",
      "correct=male     guess=female   name=Addie                         \n",
      "correct=male     guess=female   name=Aditya                        \n",
      "correct=male     guess=female   name=Adolphe                       \n",
      "correct=male     guess=female   name=Ajai                          \n",
      "correct=male     guess=female   name=Aldrich                       \n",
      "correct=male     guess=female   name=Alfonse                       \n",
      "correct=male     guess=female   name=Anatole                       \n",
      "correct=male     guess=female   name=Anatoly                       \n",
      "correct=male     guess=female   name=Antony                        \n",
      "correct=male     guess=female   name=Archy                         \n",
      "correct=male     guess=female   name=Arie                          \n",
      "correct=male     guess=female   name=Ashley                        \n",
      "correct=male     guess=female   name=Augustine                     \n",
      "correct=male     guess=female   name=Barclay                       \n",
      "correct=male     guess=female   name=Barde                         \n",
      "correct=male     guess=female   name=Barney                        \n",
      "correct=male     guess=female   name=Barrie                        \n",
      "correct=male     guess=female   name=Bradley                       \n",
      "correct=male     guess=female   name=Brinkley                      \n",
      "correct=male     guess=female   name=Bruce                         \n",
      "correct=male     guess=female   name=Burke                         \n",
      "correct=male     guess=female   name=Carmine                       \n",
      "correct=male     guess=female   name=Case                          \n",
      "correct=male     guess=female   name=Clarance                      \n",
      "correct=male     guess=female   name=Clarke                        \n",
      "correct=male     guess=female   name=Claude                        \n",
      "correct=male     guess=female   name=Clay                          \n",
      "correct=male     guess=female   name=Clive                         \n",
      "correct=male     guess=female   name=Cobbie                        \n",
      "correct=male     guess=female   name=Corey                         \n",
      "correct=male     guess=female   name=Cory                          \n",
      "correct=male     guess=female   name=Davidde                       \n",
      "correct=male     guess=female   name=Dennie                        \n",
      "correct=male     guess=female   name=Dewey                         \n",
      "correct=male     guess=female   name=Dietrich                      \n",
      "correct=male     guess=female   name=Douggie                       \n",
      "correct=male     guess=female   name=Dwaine                        \n",
      "correct=male     guess=female   name=Elroy                         \n",
      "correct=male     guess=female   name=Ely                           \n",
      "correct=male     guess=female   name=Emmy                          \n",
      "correct=male     guess=female   name=Filipe                        \n",
      "correct=male     guess=female   name=Freddie                       \n",
      "correct=male     guess=female   name=Frederich                     \n",
      "correct=male     guess=female   name=Gay                           \n",
      "correct=male     guess=female   name=Geoffry                       \n",
      "correct=male     guess=female   name=Georgy                        \n",
      "correct=male     guess=female   name=Germaine                      \n",
      "correct=male     guess=female   name=Haley                         \n",
      "correct=male     guess=female   name=Hartley                       \n",
      "correct=male     guess=female   name=Hasty                         \n",
      "correct=male     guess=female   name=Heinrich                      \n",
      "correct=male     guess=female   name=Henry                         \n",
      "correct=male     guess=female   name=Herculie                      \n",
      "correct=male     guess=female   name=Hewe                          \n",
      "correct=male     guess=female   name=Howie                         \n",
      "correct=male     guess=female   name=Ikey                          \n",
      "correct=male     guess=female   name=Jedediah                      \n",
      "correct=male     guess=female   name=Jefry                         \n",
      "correct=male     guess=female   name=Jephthah                      \n",
      "correct=male     guess=female   name=Jere                          \n",
      "correct=male     guess=female   name=Jerome                        \n",
      "correct=male     guess=female   name=Jerzy                         \n",
      "correct=male     guess=female   name=Jimmie                        \n",
      "correct=male     guess=female   name=Jory                          \n",
      "correct=male     guess=female   name=Judah                         \n",
      "correct=male     guess=female   name=Kalle                         \n",
      "correct=male     guess=female   name=Keith                         \n",
      "correct=male     guess=female   name=Kelsey                        \n",
      "correct=male     guess=female   name=Kermie                        \n",
      "correct=male     guess=female   name=Knox                          \n",
      "correct=male     guess=female   name=Lawrence                      \n",
      "correct=male     guess=female   name=Lee                           \n",
      "correct=male     guess=female   name=Leslie                        \n",
      "correct=male     guess=female   name=Lindsay                       \n",
      "correct=male     guess=female   name=Marietta                      \n",
      "correct=male     guess=female   name=Mischa                        \n",
      "correct=male     guess=female   name=Monroe                        \n",
      "correct=male     guess=female   name=Monty                         \n",
      "correct=male     guess=female   name=Mordecai                      \n",
      "correct=male     guess=female   name=Morty                         \n",
      "correct=male     guess=female   name=Nealy                         \n",
      "correct=male     guess=female   name=Neville                       \n",
      "correct=male     guess=female   name=Nichole                       \n",
      "correct=male     guess=female   name=Nicky                         \n",
      "correct=male     guess=female   name=Noah                          \n",
      "correct=male     guess=female   name=Noe                           \n",
      "correct=male     guess=female   name=Obadiah                       \n",
      "correct=male     guess=female   name=Obie                          \n",
      "correct=male     guess=female   name=Osborne                       \n",
      "correct=male     guess=female   name=Ozzie                         \n",
      "correct=male     guess=female   name=Pembroke                      \n",
      "correct=male     guess=female   name=Piggy                         \n",
      "correct=male     guess=female   name=Quigly                        \n",
      "correct=male     guess=female   name=Ramsey                        \n",
      "correct=male     guess=female   name=Randolph                      \n",
      "correct=male     guess=female   name=Ravi                          \n",
      "correct=male     guess=female   name=Reese                         \n",
      "correct=male     guess=female   name=Rickey                        \n",
      "correct=male     guess=female   name=Riley                         \n",
      "correct=male     guess=female   name=Rocky                         \n",
      "correct=male     guess=female   name=Rodolph                       \n",
      "correct=male     guess=female   name=Roscoe                        \n",
      "correct=male     guess=female   name=Rourke                        \n",
      "correct=male     guess=female   name=Roy                           \n",
      "correct=male     guess=female   name=Ruddie                        \n",
      "correct=male     guess=female   name=Rudolph                       \n",
      "correct=male     guess=female   name=Sascha                        \n",
      "correct=male     guess=female   name=Sayre                         \n",
      "correct=male     guess=female   name=Shane                         \n",
      "correct=male     guess=female   name=Shelby                        \n",
      "correct=male     guess=female   name=Shelley                       \n",
      "correct=male     guess=female   name=Sollie                        \n",
      "correct=male     guess=female   name=Sonny                         \n",
      "correct=male     guess=female   name=Stacy                         \n",
      "correct=male     guess=female   name=Stinky                        \n",
      "correct=male     guess=female   name=Sydney                        \n",
      "correct=male     guess=female   name=Tabbie                        \n",
      "correct=male     guess=female   name=Tate                          \n",
      "correct=male     guess=female   name=Thaine                        \n",
      "correct=male     guess=female   name=Theodore                      \n",
      "correct=male     guess=female   name=Thornie                       \n",
      "correct=male     guess=female   name=Timothee                      \n",
      "correct=male     guess=female   name=Torrance                      \n",
      "correct=male     guess=female   name=Trace                         \n",
      "correct=male     guess=female   name=Tracy                         \n",
      "correct=male     guess=female   name=Tremayne                      \n",
      "correct=male     guess=female   name=Waine                         \n",
      "correct=male     guess=female   name=Wallache                      \n",
      "correct=male     guess=female   name=Walsh                         \n",
      "correct=male     guess=female   name=Welby                         \n",
      "correct=male     guess=female   name=Willey                        \n",
      "correct=male     guess=female   name=Willy                         \n",
      "correct=male     guess=female   name=Winny                         \n",
      "correct=male     guess=female   name=Witty                         \n",
      "correct=male     guess=female   name=Worthy                        \n",
      "correct=male     guess=female   name=Yance                         \n",
      "correct=male     guess=female   name=Yancey                        \n",
      "correct=male     guess=female   name=Yuri                          \n",
      "correct=male     guess=female   name=Zacharie                      \n",
      "correct=male     guess=female   name=Zippy                         \n"
     ]
    }
   ],
   "source": [
    "for (tag, guess, name) in sorted(errors):\n",
    "...     print('correct={:<8} guess={:<8s} name={:<30}'.format(tag, guess, name))"
   ]
  },
  {
   "cell_type": "code",
   "execution_count": 17,
   "metadata": {
    "collapsed": true
   },
   "outputs": [],
   "source": [
    "def gender_features(word):\n",
    "...     return {'suffix1': word[-1:],\n",
    "...             'suffix2': word[-2:]}"
   ]
  },
  {
   "cell_type": "code",
   "execution_count": 18,
   "metadata": {
    "collapsed": false
   },
   "outputs": [
    {
     "name": "stdout",
     "output_type": "stream",
     "text": [
      "0.763\n"
     ]
    }
   ],
   "source": [
    "train_set = [(gender_features(n), gender) for (n, gender) in train_names]\n",
    "devtest_set = [(gender_features(n), gender) for (n, gender) in devtest_names]\n",
    "classifier = nltk.NaiveBayesClassifier.train(train_set)\n",
    "print(nltk.classify.accuracy(classifier, devtest_set))"
   ]
  },
  {
   "cell_type": "code",
   "execution_count": 19,
   "metadata": {
    "collapsed": true
   },
   "outputs": [],
   "source": [
    "from nltk.corpus import movie_reviews\n",
    "documents = [(list(movie_reviews.words(fileid)), category)\n",
    "...              for category in movie_reviews.categories()\n",
    "...              for fileid in movie_reviews.fileids(category)]\n",
    "random.shuffle(documents)"
   ]
  },
  {
   "cell_type": "code",
   "execution_count": 20,
   "metadata": {
    "collapsed": true
   },
   "outputs": [],
   "source": [
    "all_words = nltk.FreqDist(w.lower() for w in movie_reviews.words())\n",
    "word_features = list(all_words)[:2000]\n",
    "\n",
    "def document_features(document):\n",
    "    document_words = set(document)\n",
    "    features = {}\n",
    "    for word in word_features:\n",
    "        features['contains({})'.format(word)] = (word in document_words)\n",
    "    return features"
   ]
  },
  {
   "cell_type": "code",
   "execution_count": 21,
   "metadata": {
    "collapsed": false
   },
   "outputs": [
    {
     "name": "stdout",
     "output_type": "stream",
     "text": [
      "{'contains(cpl)': False, 'contains(jovovich)': False, 'contains(bueller_)': False, 'contains(transmitting)': False, 'contains(rozencrantz)': False, 'contains(files)': False, 'contains(puppetry)': False, 'contains(nephews)': False, 'contains(lends)': False, 'contains(____________________________________________)': False, 'contains(emigrants)': False, 'contains(novicorp)': False, 'contains(daniels)': False, 'contains(charly)': False, 'contains(neighboring)': False, 'contains(facing)': False, 'contains(stream)': False, 'contains(diabolically)': False, 'contains(cabinets)': False, 'contains(worship)': False, 'contains(potemkin)': False, 'contains(affectionate)': False, 'contains(obscenely)': False, 'contains(prancer)': False, 'contains(worrys)': False, 'contains(excite)': False, 'contains(asia)': False, 'contains(flannery)': False, 'contains(hanging)': False, 'contains(breakout)': False, 'contains(stanwyck)': False, 'contains(stressed)': False, 'contains(tiepin)': False, 'contains(stendhal)': False, 'contains(telecast)': False, 'contains(louisa)': False, 'contains(prevented)': False, 'contains(slo)': False, 'contains(cannell)': False, 'contains(kansas)': False, 'contains(raimi)': False, 'contains(127)': False, 'contains(coeur)': False, 'contains(merciless)': False, 'contains(upkeep)': False, 'contains(dialogues)': False, 'contains(penleric)': False, 'contains(talkie)': False, 'contains(unfaithful)': False, 'contains(lair)': False, 'contains(roomie)': False, 'contains(thanksgiving)': False, 'contains(graves)': False, 'contains(predominantly)': False, 'contains(trivialize)': False, 'contains(gel)': False, 'contains(roth)': False, 'contains(realities)': False, 'contains(arnez)': False, 'contains(picketers)': False, 'contains(illuminated)': False, 'contains(eroticism)': False, 'contains(alignments)': False, 'contains(envigorating)': False, 'contains(tray)': False, 'contains(joins)': False, 'contains(mysteriously)': False, 'contains(regime)': False, 'contains(rosso)': False, 'contains(bennett)': False, 'contains(braxton)': False, 'contains(bowed)': False, 'contains(deeply)': False, 'contains(houses)': False, 'contains(unshrouded)': False, 'contains(dejectedly)': False, 'contains(pursued)': False, 'contains(romeo)': False, 'contains(caper)': False, 'contains(kario)': False, 'contains(artifice)': False, 'contains(1995)': False, 'contains(grandison)': False, 'contains(excercise)': False, 'contains(behoove)': False, 'contains(edmund)': False, 'contains(spawned)': False, 'contains(gismos)': False, 'contains(suspiria)': False, 'contains(stabbing)': False, 'contains(underlines)': False, 'contains(fluffy)': False, 'contains(retreating)': False, 'contains(dinosaurs)': False, 'contains(dornacker)': False, 'contains(churchill)': False, 'contains(gwenie)': False, 'contains(bums)': False, 'contains(hum)': False, 'contains(abu)': False, 'contains(de)': False, 'contains(understands)': False, 'contains(authorship)': False, 'contains(hundreds)': False, 'contains(panicked)': False, 'contains(lopped)': False, 'contains(flik)': False, 'contains(bening)': False, 'contains(godzilla)': False, 'contains(climactic)': False, 'contains(nottinghamshire)': False, 'contains(sensation)': False, 'contains(breakers)': False, 'contains(spikes)': False, 'contains(monoliths)': False, 'contains(clownish)': False, 'contains(taggert)': False, 'contains(cowards)': False, 'contains(livened)': False, 'contains(investigations)': False, 'contains(kingpin)': False, 'contains(adjectives)': False, 'contains(said)': False, 'contains(hurry)': False, 'contains(tomfoolery)': False, 'contains(spilled)': False, 'contains(vacuous)': False, 'contains(unfazed)': False, 'contains(surfing)': False, 'contains(scooping)': False, 'contains(conversation)': False, 'contains(traces)': False, 'contains(uhhhm)': False, 'contains(passionately)': False, 'contains(indulged)': False, 'contains(_angel)': False, 'contains(telekinetic)': False, 'contains(discoveries)': False, 'contains(snarfed)': False, 'contains(meal)': False, 'contains(remi)': False, 'contains(reports)': False, 'contains(brokerage)': False, 'contains(revengeful)': False, 'contains(skirt)': False, 'contains(warranted)': False, 'contains(grisham)': False, 'contains(salvati)': False, 'contains(highschool)': False, 'contains(enjoying)': False, 'contains(composer)': False, 'contains(alternately)': False, 'contains(overdubbed)': False, 'contains(posture)': False, 'contains(rang)': False, 'contains(condoms)': False, 'contains(stereotypical)': False, 'contains(illusion)': False, 'contains(easily)': False, 'contains(hung)': False, 'contains(feelin)': False, 'contains(peeping)': False, 'contains(nookey)': False, 'contains(deluise)': False, 'contains(marginal)': False, 'contains(incubus)': False, 'contains(rollergirl)': False, 'contains(imitates)': False, 'contains(corbin)': False, 'contains(kirsten)': False, 'contains(deported)': False, 'contains(schroeder)': False, 'contains(flyboy)': False, 'contains(chat)': False, 'contains(classless)': False, 'contains(commander)': False, 'contains(bullion)': False, 'contains(pratfall)': False, 'contains(philadelphia)': False, 'contains(discover)': False, 'contains(germans)': False, 'contains(reese)': False, 'contains(goodniks)': False, 'contains(instinct)': False, 'contains(dustbuster)': False, 'contains(soylent)': False, 'contains(approval)': False, 'contains(pranks)': False, 'contains(phenomenas)': False, 'contains(reliability)': False, 'contains(quell)': False, 'contains(relied)': False, 'contains(rabid)': False, 'contains(langton)': False, 'contains(looked)': False, 'contains(verma)': False, 'contains(2hr)': False, 'contains(aristocratic)': False, 'contains(scrubbed)': False, 'contains(prose)': False, 'contains(incredible)': False, 'contains(namely)': False, 'contains(boils)': False, 'contains(simultaneously)': False, 'contains(john)': False, 'contains($&#)': False, 'contains(reinforcement)': False, 'contains(arrested)': False, 'contains(conquers)': False, 'contains(fletch)': False, 'contains(pulsating)': False, 'contains(relentlessly)': False, 'contains(therefor)': False, 'contains(cunning)': False, 'contains(burdensome)': False, 'contains(dared)': False, 'contains(wronged)': False, 'contains(neurotic)': False, 'contains(becoming)': False, 'contains(benevolent)': False, 'contains(delusional)': False, 'contains(tale)': False, 'contains(transitory)': False, 'contains(personalized)': False, 'contains(scott)': False, 'contains(cobblers)': False, 'contains(pitfalls)': False, 'contains(superpower)': False, 'contains(macleod)': False, 'contains(geraldo)': False, 'contains(expressionless)': False, 'contains(directives)': False, 'contains(defecting)': False, 'contains(cookies)': False, 'contains(preachiness)': False, 'contains(keach)': False, 'contains(rollers)': False, 'contains(gorgeous)': False, 'contains(knights)': False, 'contains(aughra)': False, 'contains(curveballs)': False, 'contains(houdini)': False, 'contains(rocking)': False, 'contains(writed)': False, 'contains(nicolo)': False, 'contains(sucessful)': False, 'contains(helpless)': False, 'contains(antisocial)': False, 'contains(fab)': False, 'contains(uncomfortably)': False, 'contains(drugged)': False, 'contains(nigga)': False, 'contains(gough)': False, 'contains(walsingham)': False, 'contains(impressionist)': False, 'contains(pesudo)': False, 'contains(bets)': False, 'contains(infested)': False, 'contains(carol)': False, 'contains(bossa)': False, 'contains(guzzling)': False, 'contains(epilepsy)': False, 'contains(collapses)': False, 'contains(partitions)': False, 'contains(greg)': False, 'contains(landing)': False, 'contains(wilcock)': False, 'contains(allotted)': False, 'contains(brett)': False, 'contains(yawning)': False, 'contains(even)': False, 'contains(puns)': False, 'contains(winded)': False, 'contains(buchman)': False, 'contains(royalists)': False, 'contains(squeezing)': False, 'contains(anya)': False, 'contains(cru)': False, 'contains(insults)': False, 'contains(quilty)': False, 'contains(mimmo)': False, 'contains(harmonious)': False, 'contains(reunions)': False, 'contains(trevor)': False, 'contains(andrews)': False, 'contains(sexist)': False, 'contains(visited)': False, 'contains(moritz)': False, 'contains(amassed)': False, 'contains(coin)': False, 'contains(kirbys)': False, 'contains(ambiguousness)': False, 'contains(contemplates)': False, 'contains(brazilian)': False, 'contains(homage)': False, 'contains(sleeping)': False, 'contains(fighter)': False, 'contains(smoke)': False, 'contains(spliced)': False, 'contains(soviets)': False, 'contains(indicates)': False, 'contains(undeserving)': False, 'contains(chaykin)': False, 'contains(viceversa)': False, 'contains(ava)': False, 'contains(raquel)': False, 'contains(loyality)': False, 'contains(parks)': False, 'contains(blinding)': False, 'contains(weapon)': False, 'contains(dunst)': False, 'contains(cahoots)': False, 'contains(countrysides)': False, 'contains(consequential)': False, 'contains(unfamiliar)': False, 'contains(1400)': False, 'contains(fortunes)': False, 'contains(caress)': False, 'contains(christiane)': False, 'contains(bumbling)': False, 'contains(urge)': False, 'contains(nobody)': False, 'contains(stupefied)': False, 'contains(frankenweenie)': False, 'contains(cyber)': False, 'contains(everton)': False, 'contains(mcdonaldburger)': False, 'contains(morrison)': False, 'contains(insights)': False, 'contains(trips)': False, 'contains(tiff)': False, 'contains(dopey)': False, 'contains(archer)': False, 'contains(osgood)': False, 'contains(extracurricular)': False, 'contains(naughtiness)': False, 'contains(phenominal)': False, 'contains(scribe)': False, 'contains(kelsey)': False, 'contains(zus)': False, 'contains(wounds)': False, 'contains(stardust)': False, 'contains(caulfield)': False, 'contains(distanced)': False, 'contains(2001)': False, 'contains(doos)': False, 'contains(dependent)': False, 'contains(hauteurs)': False, 'contains(leprosy)': False, 'contains(exposing)': False, 'contains(abundance)': False, 'contains(stavro)': False, 'contains(pulitzer)': False, 'contains(ahern)': False, 'contains(unsuave)': False, 'contains(peckinpah)': False, 'contains(boarded)': False, 'contains(pennies)': False, 'contains(stemple)': False, 'contains(emergency)': False, 'contains(braeden)': False, 'contains(listeners)': False, 'contains(cringeworthy)': False, 'contains(offends)': False, 'contains(substitutes)': False, 'contains(thankful)': False, 'contains(assassination)': False, 'contains(snitches)': False, 'contains(flashier)': False, 'contains(penn)': False, 'contains(bordello)': False, 'contains(mayhew)': False, 'contains(witches)': False, 'contains(kiberlain)': False, 'contains(owen)': False, 'contains(forest)': False, 'contains(lens)': False, 'contains(crime)': False, 'contains(disorders)': False, 'contains(arbiters)': False, 'contains(sometime)': False, 'contains(amphetimenes)': False, 'contains(characted)': False, 'contains(competition)': False, 'contains(scores)': False, 'contains(bombastic)': False, 'contains(taped)': False, 'contains(thugs)': False, 'contains(media)': False, 'contains(unstraightforward)': False, 'contains(notre)': False, 'contains(brothels)': False, 'contains(flanked)': False, 'contains(brancato)': False, 'contains(corwin)': False, 'contains(kung)': True, 'contains(flurry)': False, 'contains(venus)': False, 'contains(ceilings)': False, 'contains(unpopular)': False, 'contains(tingles)': False, 'contains(diesel)': False, 'contains(tolan)': False, 'contains(marcel)': False, 'contains(meri)': False, 'contains(away)': False, 'contains(sheltered)': False, 'contains(bloodbath)': False, 'contains(certain)': False, 'contains(jolly)': False, 'contains(maids)': False, 'contains(definitly)': False, 'contains(declare)': False, 'contains(spinal)': False, 'contains(unpredictable)': False, 'contains(egpyt)': False, 'contains(tedious)': False, 'contains(tis)': False, 'contains(demises)': False, 'contains(scolex)': False, 'contains(glorified)': False, 'contains(cro)': False, 'contains(sunrise)': False, 'contains(laught)': False, 'contains(found)': False, 'contains(edu)': False, 'contains(backdrops)': False, 'contains(winkless)': False, 'contains(being)': False, 'contains(savory)': False, 'contains(charlies)': False, 'contains(amour)': False, 'contains(smokers)': False, 'contains(archenemies)': False, 'contains(pales)': False, 'contains(bergl)': False, 'contains(love)': False, 'contains(panama)': False, 'contains(dellaplane)': False, 'contains(examine)': False, 'contains(poured)': False, 'contains(intrigues)': False, 'contains(alumni)': False, 'contains(royces)': False, 'contains(poignance)': False, 'contains(assured)': False, 'contains(leveling)': False, 'contains(try)': False, 'contains(strobe)': False, 'contains(tower)': False, 'contains(results)': False, 'contains(creamy)': False, 'contains(stupider)': False, 'contains(seth)': False, 'contains(upwards)': False, 'contains(adult)': False, 'contains(schoolmarm)': False, 'contains(acquiescence)': False, 'contains(siegfried)': False, 'contains(midst)': False, 'contains(whittled)': False, 'contains(landscape)': False, 'contains(tyrone)': False, 'contains(transmitter)': False, 'contains(polishing)': False, 'contains(prodigal)': False, 'contains(wandering)': False, 'contains(afterward)': False, 'contains(_are_)': False, 'contains(projected)': False, 'contains(hooves)': False, 'contains(highly)': False, 'contains(teams)': False, 'contains(rift)': False, 'contains(tammi)': False, 'contains(shell)': False, 'contains(open)': False, 'contains(effort)': False, 'contains(loni)': False, 'contains(movements)': False, 'contains(guffaws)': False, 'contains(serpico)': False, 'contains(hoenicker)': False, 'contains(flopped)': False, 'contains(bombs)': False, 'contains(junkies)': False, 'contains(hellish)': False, 'contains(drinkin)': False, 'contains(fingernail)': False, 'contains(calmly)': False, 'contains(plunkett)': False, 'contains(dimetrodon)': False, 'contains(spatial)': False, 'contains(handy)': False, 'contains(michel)': False, 'contains(supercilious)': False, 'contains(60s)': False, 'contains(window)': False, 'contains(youull)': False, 'contains(welsh)': False, 'contains(rippin)': False, 'contains(280)': False, 'contains(advising)': False, 'contains(androgony)': False, 'contains(mugger)': False, 'contains(ebonics)': False, 'contains(formal)': False, 'contains(undemanding)': False, 'contains(overlap)': False, 'contains(inject)': False, 'contains(injected)': False, 'contains(zap)': False, 'contains(dishing)': False, 'contains(headquarters)': False, 'contains(sprite)': False, 'contains(whereupon)': False, 'contains(witted)': False, 'contains(mortals)': False, 'contains(safeties)': False, 'contains(desirable)': False, 'contains(postlethwaite)': False, 'contains(dynamics)': False, 'contains(eagle)': False, 'contains(clarity)': False, 'contains(sierra)': False, 'contains(minimalistic)': False, 'contains(taking)': False, 'contains(performences)': False, 'contains(presumption)': False, 'contains(tempe)': False, 'contains(swapping)': False, 'contains(motor)': False, 'contains(sandy)': False, 'contains(heartbeat)': False, 'contains(sheedy)': False, 'contains(bustling)': False, 'contains(amigos)': False, 'contains(save)': False, 'contains(prefers)': False, 'contains(massages)': False, 'contains(top)': True, 'contains(restroom)': False, 'contains(barbieri)': False, 'contains(laces)': False, 'contains(lept)': False, 'contains(liven)': False, 'contains(warlord)': False, 'contains(omnivorous)': False, 'contains(converging)': False, 'contains(acquainted)': False, 'contains(delinquent)': False, 'contains(condemned)': False, 'contains(gristly)': False, 'contains(proverbial)': False, 'contains(attatched)': False, 'contains(masking)': False, 'contains(gasp)': True, 'contains(byron)': False, 'contains(taks)': False, 'contains(dally)': False, 'contains(energized)': False, 'contains(wiseacre)': False, 'contains(gruff)': False, 'contains(solvable)': False, 'contains(dubuque)': False, 'contains(doin)': False, 'contains(moronism)': False, 'contains(pheneomena)': False, 'contains(surroundings)': False, 'contains(resolved)': False, 'contains(pretensions)': False, 'contains(sprints)': False, 'contains(wangenhein)': False, 'contains(ups)': False, 'contains(secluded)': False, 'contains(babysitter)': False, 'contains(mcfarlane)': False, 'contains(emanate)': False, 'contains(slung)': False, 'contains(reachable)': False, 'contains(go)': False, 'contains(fanged)': False, 'contains(degenerating)': False, 'contains(videophones)': False, 'contains(furrowed)': False, 'contains(bulimia)': False, 'contains(tersely)': False, 'contains(girlfriend)': True, 'contains(egyptologist)': False, 'contains(flintstones)': False, 'contains(actioner)': False, 'contains(providing)': False, 'contains(neeson)': False, 'contains(opposes)': False, 'contains(noses)': False, 'contains(ample)': False, 'contains(bookish)': False, 'contains(utterances)': False, 'contains(chimes)': False, 'contains(syndrome)': False, 'contains(graininess)': False, 'contains(eyes)': False, 'contains(phenomenon)': False, 'contains(fishing)': False, 'contains(lieutenant)': False, 'contains(gattaca)': False, 'contains(walker)': False, 'contains(dose)': False, 'contains(purer)': False, 'contains(prominant)': False, 'contains(choked)': False, 'contains(teasers)': False, 'contains(guttural)': False, 'contains(paradoxes)': False, 'contains(rhodes)': False, 'contains(disguise)': False, 'contains(portia)': False, 'contains(morquio)': False, 'contains(robespierre)': False, 'contains(amber)': False, 'contains(petulant)': False, 'contains(reprised)': False, 'contains(lenny)': False, 'contains(interpreter)': False, 'contains(slow)': True, 'contains(backstage)': False, 'contains(parsons)': False, 'contains(lands)': False, 'contains(adapted)': False, 'contains(aside)': False, 'contains(peculiarities)': False, 'contains(panoramic)': False, 'contains(decorates)': False, 'contains(blocks)': False, 'contains(auspicious)': False, 'contains(binds)': False, 'contains(mt)': False, 'contains(handled)': False, 'contains(abiility)': False, 'contains(totemic)': False, 'contains(devour)': False, 'contains(chunks)': False, 'contains(plenty)': False, 'contains(actionfest)': False, 'contains(switch)': False, 'contains(hanna)': False, 'contains(arne)': False, 'contains(prentice)': False, 'contains(foreknowledge)': False, 'contains(invective)': False, 'contains(chute)': False, 'contains(offshoot)': False, 'contains(learn)': False, 'contains(lifelike)': False, 'contains(shoudln)': False, 'contains(honking)': False, 'contains(stiffs)': False, 'contains(wrist)': False, 'contains(vigo)': False, 'contains(rollickingly)': False, 'contains(arsenal)': False, 'contains(stumbling)': False, 'contains(started)': False, 'contains(commerce)': False, 'contains(underused)': False, 'contains(harve)': False, 'contains(processor)': False, 'contains(teeters)': False, 'contains(biggie)': False, 'contains(portly)': False, 'contains(minds)': False, 'contains(pornstar)': False, 'contains(seasons)': False, 'contains(believing)': False, 'contains(need)': False, 'contains(hatchette)': False, 'contains(architecturally)': False, 'contains(crackle)': False, 'contains(biology)': False, 'contains(freshly)': False, 'contains(vanessa)': False, 'contains(korea)': False, 'contains(http)': False, 'contains(lap)': False, 'contains(ejection)': False, 'contains(squabble)': False, 'contains(laughton)': False, 'contains(lobotomized)': False, 'contains(penultimate)': False, 'contains(sidetracks)': False, 'contains(journeyed)': False, 'contains(already)': False, 'contains(letters)': False, 'contains(sportsmanship)': False, 'contains(grump)': False, 'contains(unsurprising)': False, 'contains(guarantees)': False, 'contains(blitzstein)': False, 'contains(swann)': False, 'contains(fights)': False, 'contains(acknowledges)': False, 'contains(pledges)': False, 'contains(hindering)': False, 'contains(walhberg)': False, 'contains(blasted)': False, 'contains(claire)': False, 'contains(turvey)': False, 'contains(greasy)': False, 'contains(170)': False, 'contains(vastly)': False, 'contains(dwarves)': False, 'contains(sentient)': False, 'contains(lifestyle)': False, 'contains(contractor)': False, 'contains(mentoring)': False, 'contains(unmistakably)': False, 'contains(buddhist)': False, 'contains(danish)': False, 'contains(visionary)': False, 'contains(regression)': False, 'contains(duality)': False, 'contains(overpopulation)': False, 'contains(proclivity)': False, 'contains(fundraisers)': False, 'contains(pressure)': False, 'contains(cadavers)': False, 'contains(hammond)': False, 'contains(evacuated)': False, 'contains(casey)': False, 'contains(yuor)': False, 'contains(radioactivity)': False, 'contains(directional)': False, 'contains(elaine)': False, 'contains(ferrer)': False, 'contains(bussed)': False, 'contains(bolster)': False, 'contains(toffler)': False, 'contains(narcolepsy)': False, 'contains(lambasted)': False, 'contains(emporer)': False, 'contains(greater)': False, 'contains(driving)': False, 'contains(robust)': False, 'contains(sethna)': False, 'contains(demonstrably)': False, 'contains(experimenters)': False, 'contains(cuteness)': False, 'contains(dante)': False, 'contains(speculator)': False, 'contains(forays)': False, 'contains(paired)': False, 'contains(renovate)': False, 'contains(ledoyen)': False, 'contains(mankind)': False, 'contains(matiko)': False, 'contains(waterworld)': False, 'contains(companionship)': False, 'contains(bess)': False, 'contains(fifteen)': False, 'contains(condemn)': False, 'contains(instructor)': False, 'contains(resonance)': False, 'contains(jagdish)': False, 'contains(vincenzo)': False, 'contains(songwriting)': False, 'contains(mindel)': False, 'contains(dina)': False, 'contains(obscured)': False, 'contains(gilpin)': False, 'contains(marley)': False, 'contains(defiantly)': False, 'contains(spews)': False, 'contains(deceptions)': False, 'contains(melrose)': False, 'contains(keenly)': False, 'contains(bounderby)': False, 'contains(shrewdly)': False, 'contains(idella)': False, 'contains(offhand)': False, 'contains(voom)': False, 'contains(disciples)': False, 'contains(other)': True, 'contains(odoriferous)': False, 'contains(assumption)': False, 'contains(1966)': False, 'contains(expose)': False, 'contains(notable)': False, 'contains(newly)': False, 'contains(progress)': False, 'contains(sargent)': False, 'contains(bros)': False, 'contains(verite)': False, 'contains(necessary)': False, 'contains(interrotron)': False, 'contains(spends)': False, 'contains(prefixed)': False, 'contains(madmen)': False, 'contains(miracles)': False, 'contains(lucasfilm)': False, 'contains(atone)': False, 'contains(aquire)': False, 'contains(faculty)': False, 'contains(esteem)': False, 'contains(reinforcing)': False, 'contains(globally)': False, 'contains(shon)': False, 'contains(wyatt)': False, 'contains(motionlessly)': False, 'contains(outweigh)': False, 'contains(distasteful)': False, 'contains(zoot)': False, 'contains(saber)': False, 'contains(whispers)': False, 'contains(lu)': False, 'contains(severities)': False, 'contains(placer)': False, 'contains(sandefur)': False, 'contains(sunlit)': False, 'contains(thurman)': False, 'contains(squat)': False, 'contains(admonition)': False, 'contains(stranding)': False, 'contains(jurisdiction)': False, 'contains(retina)': False, 'contains(berg)': False, 'contains(requiem)': False, 'contains(compensating)': False, 'contains(scofield)': False, 'contains(clocktower)': False, 'contains(oppressors)': False, 'contains(vivian)': False, 'contains(retired)': False, 'contains(sleeps)': False, 'contains(piloted)': False, 'contains(winger)': False, 'contains(unveil)': False, 'contains(vampirism)': False, 'contains(volcanoes)': False, 'contains(tappan)': False, 'contains(complain)': False, 'contains(pianist)': False, 'contains(flack)': False, 'contains(challenged)': False, 'contains(unimpressive)': False, 'contains(antipathetic)': False, 'contains(patlabor)': False, 'contains(montages)': False, 'contains(gwythants)': False, 'contains(germphobe)': False, 'contains(batologist)': False, 'contains(namesakes)': False, 'contains(tires)': False, 'contains(bused)': False, 'contains(looms)': False, 'contains(buttocks)': False, 'contains(beauties)': False, 'contains(sats)': False, 'contains(trys)': False, 'contains(cynic)': False, 'contains(kentucky)': False, 'contains(yugoslavia)': False, 'contains(withdrawing)': False, 'contains(scorecard)': False, 'contains(ponytails)': False, 'contains(cowled)': False, 'contains(lewton)': False, 'contains(americanizing)': False, 'contains(frog)': False, 'contains(ironies)': False, 'contains(silberg)': False, 'contains(wayans)': False, 'contains(lughead)': False, 'contains(ghettoized)': False, 'contains(boudreau)': False, 'contains(unequipped)': False, 'contains(branson)': False, 'contains(cheeseball)': False, 'contains(hemisphere)': False, 'contains(interchangeable)': False, 'contains(jets)': False, 'contains(salary)': False, 'contains(methodical)': False, 'contains(pinky)': False, 'contains(receipts)': False, 'contains(chompers)': False, 'contains(founders)': False, 'contains(schmaltziness)': False, 'contains(exacly)': False, 'contains(inexpensive)': False, 'contains(youths)': False, 'contains(vinicius)': False, 'contains(soaring)': False, 'contains(telemarketer)': False, 'contains(fundamentalist)': False, 'contains(delacroix)': False, 'contains(branded)': False, 'contains(childish)': False, 'contains(mancina)': False, 'contains(candyman)': False, 'contains(textbook)': False, 'contains(cattily)': False, 'contains(eights)': False, 'contains(dystopic)': False, 'contains(reprint)': False, 'contains(every)': False, 'contains(sakaguchi)': False, 'contains(sputnik)': False, 'contains(articulated)': False, 'contains(anatomical)': False, 'contains(3654)': False, 'contains(platter)': False, 'contains(norad)': False, 'contains(sketching)': False, 'contains(seague)': False, 'contains(judgements)': False, 'contains(coarsely)': False, 'contains(excitedly)': False, 'contains(unreliable)': False, 'contains(firefighter)': False, 'contains(substitutions)': False, 'contains(condone)': False, 'contains(sprucing)': False, 'contains(remix)': False, 'contains(manila)': False, 'contains(undertake)': False, 'contains(maryam)': False, 'contains(felix)': False, 'contains(medieval)': False, 'contains(dictates)': False, 'contains(vulnerability)': False, 'contains(triva)': False, 'contains(fumes)': False, 'contains(enlistees)': False, 'contains(demo)': False, 'contains(daugher)': False, 'contains(groundbreakingly)': False, 'contains(shotgun)': False, 'contains(calder)': False, 'contains(directon)': False, 'contains(referenced)': False, 'contains(numbskulls)': False, 'contains(dobbs)': False, 'contains(gallows)': False, 'contains(aykroyd)': False, 'contains(square)': False, 'contains(suburbia)': False, 'contains(draft)': False, 'contains(prettiest)': False, 'contains(prompt)': False, 'contains(warmed)': False, 'contains(scoff)': False, 'contains(respectable)': False, 'contains(inserted)': False, 'contains(lackluster)': False, 'contains(bookkeeper)': False, 'contains(forensic)': False, 'contains(chemo)': False, 'contains(horseshoes)': False, 'contains(spinosauraus)': False, 'contains(orchard)': False, 'contains(fashioning)': False, 'contains(sustained)': False, 'contains(feore)': False, 'contains(disconnects)': False, 'contains(responses)': False, 'contains(snl)': False, 'contains(realm)': False, 'contains(riveting)': False, 'contains(rectitude)': False, 'contains(mask)': False, 'contains(smash)': False, 'contains(sketchy)': False, 'contains(immediacy)': False, 'contains(pithy)': False, 'contains(high)': False, 'contains(pathetically)': False, 'contains(quotations)': False, 'contains(threatned)': False, 'contains(mca)': False, 'contains(ga)': False, 'contains(fuss)': False, 'contains(begbie)': False, 'contains(roadster)': False, 'contains(julius)': False, 'contains(rescues)': False, 'contains(retaliates)': False, 'contains(delta)': False, 'contains(monogamy)': False, 'contains(portentous)': False, 'contains(resembling)': False, 'contains(convey)': False, 'contains(prickly)': False, 'contains(unthrilling)': False, 'contains(frolic)': False, 'contains(alpine)': False, 'contains(seam)': False, 'contains(degrading)': False, 'contains(fo)': True, 'contains(pissing)': False, 'contains(speeds)': False, 'contains(booked)': False, 'contains(latter)': False, 'contains(dariush)': False, 'contains(em)': False, 'contains(impostor)': False, 'contains(whitfeld)': False, 'contains(slouched)': False, 'contains(sizable)': False, 'contains(martian)': False, 'contains(morphed)': False, 'contains(amadeus)': False, 'contains(ditches)': False, 'contains(sodomized)': False, 'contains(ambush)': False, 'contains(shrasta)': False, 'contains(griffith)': False, 'contains(sindel)': False, 'contains(valkyries)': False, 'contains(recruited)': False, 'contains(humanism)': False, 'contains(dramatically)': False, 'contains(fetishist)': False, 'contains(swirling)': False, 'contains(uncountable)': False, 'contains(tricia)': False, 'contains(animatronic)': False, 'contains(haystack)': False, 'contains(concerns)': False, 'contains(metaphorical)': False, 'contains(viscous)': False, 'contains(encore)': False, 'contains(blowjob)': False, 'contains(larter)': False, 'contains(wave)': False, 'contains(activist)': False, 'contains(equalizes)': False, 'contains(fragment)': False, 'contains(luis)': False, 'contains(windsor)': False, 'contains(reflecting)': False, 'contains(patiently)': False, 'contains(tambor)': False, 'contains(jarred)': False, 'contains(squinty)': False, 'contains(elloquently)': False, 'contains(blunt)': False, 'contains(pyjamas)': False, 'contains(bedsprings)': False, 'contains(somehow)': False, 'contains(hes)': False, 'contains(perfuctory)': False, 'contains(coverup)': False, 'contains(heaps)': False, 'contains(zhou)': False, 'contains(closeups)': False, 'contains(elicitor)': False, 'contains(melora)': False, 'contains(pitiful)': False, 'contains(complete)': False, 'contains(cammie)': False, 'contains(comprising)': False, 'contains(gizmos)': False, 'contains(implanted)': False, 'contains(anticipants)': False, 'contains(thearapeutic)': False, 'contains(shelia)': False, 'contains(engrossment)': False, 'contains(whitfield)': False, 'contains(supersedes)': False, 'contains(tristine)': False, 'contains(waterlogged)': False, 'contains(studs)': False, 'contains(youre)': False, 'contains(triumph)': False, 'contains(uncredited)': False, 'contains(elevated)': False, 'contains(earned)': False, 'contains(stewing)': False, 'contains(overhears)': False, 'contains(lawman)': False, 'contains(sagan)': False, 'contains(farms)': False, 'contains(dierdre)': False, 'contains(masterpeice)': False, 'contains(convincing)': False, 'contains(maggies)': False, 'contains(storylines)': False, 'contains(raskolnikov)': False, 'contains(uttered)': False, 'contains(sternly)': False, 'contains(humour)': False, 'contains(shelmickedmu)': False, 'contains(grays)': False, 'contains(astronomy)': False, 'contains(resolute)': False, 'contains(charity)': False, 'contains(confiscate)': False, 'contains(mccann)': False, 'contains(frowns)': False, 'contains(raison)': False, 'contains(coughed)': False, 'contains(gangster)': True, 'contains(tram)': False, 'contains(dropper)': False, 'contains(keely)': False, 'contains(heberle)': False, 'contains(blows)': False, 'contains(extentions)': False, 'contains(bellbottoms)': False, 'contains(unspeakable)': False, 'contains(degree)': False, 'contains(mentally)': False, 'contains(constricted)': False, 'contains(measured)': False, 'contains(beringer)': False, 'contains(illustrates)': False, 'contains(effete)': False, 'contains(intrinsic)': False, 'contains(efficent)': False, 'contains(fitzgerald)': False, 'contains(airtime)': False, 'contains(annoys)': False, 'contains(bringer)': False, 'contains(condense)': False, 'contains(rambunctious)': False, 'contains(leit)': False, 'contains(flanagan)': False, 'contains(feelings)': False, 'contains(suceeds)': False, 'contains(references)': False, 'contains(policies)': False, 'contains(lex)': False, 'contains(xref)': False, 'contains(mudhole)': False, 'contains(burden)': False, 'contains(screechy)': False, 'contains(moranis)': False, 'contains(birdsall)': False, 'contains(flakes)': False, 'contains(famke)': False, 'contains(celebrities)': False, 'contains(moroder)': False, 'contains(brutally)': False, 'contains(fluttering)': False, 'contains(dragonflies)': False, 'contains(downed)': False, 'contains(disorienting)': False, 'contains(purrs)': False, 'contains(gautier)': False, 'contains(blew)': False, 'contains(dampened)': False, 'contains(apprenticeship)': False, 'contains(insure)': False, 'contains(bailed)': False, 'contains(torches)': False, 'contains(shrieks)': False, 'contains(family)': False, 'contains(adores)': False, 'contains(howard)': False, 'contains(chivalrously)': False, 'contains(foreplay)': False, 'contains(giovanni)': False, 'contains(potentially)': False, 'contains(_everybody_)': False, 'contains(squirrel)': False, 'contains(helmets)': False, 'contains(followed)': False, 'contains(exiles)': False, 'contains(seventy)': False, 'contains(curmudgeon)': False, 'contains(suburbs)': False, 'contains(demeaning)': False, 'contains(jungian)': False, 'contains(enticing)': False, 'contains(parallel)': False, 'contains(press)': False, 'contains(violence)': False, 'contains(mm)': False, 'contains(2050)': False, 'contains(29)': False, 'contains(seagulls)': False, 'contains(catalogue)': False, 'contains(homeboys)': False, 'contains(middair)': False, 'contains(holdups)': False, 'contains(main)': False, 'contains(wryly)': False, 'contains(tantrum)': False, 'contains(jammed)': False, 'contains(trysha)': False, 'contains(file)': False, 'contains(illusory)': False, 'contains(intrigue)': False, 'contains(cheeziness)': False, 'contains(halloran)': False, 'contains(describing)': False, 'contains(accentuate)': False, 'contains(addiction)': False, 'contains(ratcheted)': False, 'contains(societal)': False, 'contains(allusion)': False, 'contains(houseboat)': False, 'contains(2am)': False, 'contains(buying)': False, 'contains(bricks)': False, 'contains(pea)': False, 'contains(interrelate)': False, 'contains(pontificating)': False, 'contains(entitled)': False, 'contains(autopilot)': False, 'contains(apple)': False, 'contains(rudin)': False, 'contains(ilya)': False, 'contains(crimefighters)': False, 'contains(modeling)': False, 'contains(harmful)': False, 'contains(shapechanging)': False, 'contains(upmost)': False, 'contains(shan)': False, 'contains(relaxation)': False, 'contains(pumped)': False, 'contains(interrogative)': False, 'contains(argonauticus)': False, 'contains(gagging)': False, 'contains(deveu)': False, 'contains(trejo)': False, 'contains(barcalow)': False, 'contains(hooray)': False, 'contains(goads)': False, 'contains(governer)': False, 'contains(frequents)': False, 'contains(gorey)': False, 'contains(copulating)': False, 'contains(dirtiness)': False, 'contains(skewer)': False, 'contains(preceded)': False, 'contains(opponent)': False, 'contains(woeful)': False, 'contains(tales)': False, 'contains(billingsley)': False, 'contains(featherstone)': False, 'contains(clamp)': False, 'contains(recovered)': False, 'contains(logic)': False, 'contains(archetypal)': False, 'contains(charleville)': False, 'contains(jinnie)': False, 'contains(thematically)': False, 'contains(settling)': False, 'contains(supernaturally)': False, 'contains(reprimands)': False, 'contains(impaled)': False, 'contains(takeoff)': False, 'contains(arrrrrrrghhhh)': False, 'contains(hallstrom)': False, 'contains(rips)': False, 'contains(torpedoes)': False, 'contains(plotless)': False, 'contains(elliot)': False, 'contains(lama)': False, 'contains(elizabethan)': False, 'contains(workers)': False, 'contains(apropos)': False, 'contains(late)': False, 'contains(_loathe_)': False, 'contains(misadvertised)': False, 'contains(millionaires)': False, 'contains(payments)': False, 'contains(pubbing)': False, 'contains(rampage)': False, 'contains(grunts)': False, 'contains(daddy)': False, 'contains(lundgren)': False, 'contains(cort)': False, 'contains(chicken)': False, 'contains(heavyweight)': False, 'contains(nepotist)': False, 'contains(terpiece)': False, 'contains(kurgan)': False, 'contains(newt)': False, 'contains(malleability)': False, 'contains(recants)': False, 'contains(whitehouse)': False, 'contains(grip)': False, 'contains(directs)': False, 'contains(pejorative)': False, 'contains(bystander)': False, 'contains(neighbor)': False, 'contains(cans)': False, 'contains(contrastingly)': False, 'contains(celebs)': False, 'contains(bundled)': False, 'contains(motherfucker)': False, 'contains(bay)': False, 'contains(acrylic)': False, 'contains(soundman)': False, 'contains(flaw)': False, 'contains(has)': True, 'contains(holt)': False, 'contains(frontgate)': False, 'contains(testicular)': False, 'contains(bounces)': False, 'contains(commercials)': False, 'contains(dramatic)': False, 'contains(messed)': False, 'contains(yatf)': False, 'contains(rayden)': False, 'contains(arouse)': False, 'contains(bekim)': False, 'contains(race)': False, 'contains(jonesy)': False, 'contains(highbrow)': False, 'contains(1945)': False, 'contains(within)': False, 'contains(spectral)': False, 'contains(tickets)': False, 'contains(transpiring)': False, 'contains(fleeting)': False, 'contains(angelou)': False, 'contains(sequined)': False, 'contains(sonia)': False, 'contains(waitress)': False, 'contains(lighthearted)': False, 'contains(uprising)': False, 'contains(interior)': False, 'contains(brook)': False, 'contains(disrupting)': False, 'contains(cyberdog)': False, 'contains(trenches)': False, 'contains(112)': False, 'contains(shelved)': False, 'contains(urgencies)': False, 'contains(ribbing)': False, 'contains(dachshund)': False, 'contains(dewey)': False, 'contains(turbo)': False, 'contains(craftors)': False, 'contains(chronologically)': False, 'contains(feathered)': False, 'contains(evidence)': False, 'contains(catacombs)': False, 'contains(sheikh)': False, 'contains(40s)': False, 'contains(gigs)': False, 'contains(trask)': False, 'contains(watery)': False, 'contains(asbestos)': False, 'contains(tsk)': False, 'contains(hearing)': False, 'contains(hairs)': False, 'contains(reenlists)': False, 'contains(possibilities)': False, 'contains(gazes)': False, 'contains(piotr)': False, 'contains(pizza)': False, 'contains(terrible)': False, 'contains(yuri)': False, 'contains(137)': False, 'contains(mutations)': False, 'contains(bemoaning)': False, 'contains(paradoxically)': False, 'contains(fryer)': False, 'contains(scraggly)': False, 'contains(savage)': False, 'contains(baddeley)': False, 'contains(xtdl)': False, 'contains(emptying)': False, 'contains(deftly)': False, 'contains(weighing)': False, 'contains(warrior)': False, 'contains(endearingly)': False, 'contains(minbo)': False, 'contains(kinnear)': False, 'contains(bardsley)': False, 'contains(ditzism)': False, 'contains(path)': False, 'contains(honey)': False, 'contains(blunders)': False, 'contains(perceive)': False, 'contains(tardiness)': False, 'contains(crummy)': False, 'contains(1)': False, 'contains(waters)': False, 'contains(margulies)': False, 'contains(joys)': False, 'contains(_entertainment_weekly_)': False, 'contains(phaedra)': False, 'contains(introspective)': False, 'contains(manip)': False, 'contains(capoeira)': False, 'contains(lowered)': False, 'contains(obscenity)': False, 'contains(sang)': False, 'contains(mcglory)': False, 'contains(lawyers)': False, 'contains(mist)': False, 'contains(dilemnas)': False, 'contains(juvenile)': False, 'contains(clutter)': False, 'contains(beds)': False, 'contains(greediest)': False, 'contains(craves)': False, 'contains(jealously)': False, 'contains(48)': False, 'contains(savor)': False, 'contains(occurred)': False, 'contains(mandibles)': False, 'contains(healers)': False, 'contains(sangfroid)': False, 'contains(specializing)': False, 'contains(pronouncing)': False, 'contains(yacht)': False, 'contains(decorating)': False, 'contains(bly)': False, 'contains(plain)': False, 'contains(cinematographr)': False, 'contains(changed)': False, 'contains(riker)': False, 'contains(feuer)': False, 'contains(devlin)': False, 'contains(beliefs)': False, 'contains(40)': False, 'contains(harlem)': False, 'contains(hierarchies)': False, 'contains(exorbitantly)': False, 'contains(unnerving)': False, 'contains(recurring)': False, 'contains(neat)': False, 'contains(subordinate)': False, 'contains(crowbar)': False, 'contains(suddenly)': False, 'contains(restoration)': False, 'contains(marrow)': False, 'contains(bette)': False, 'contains(delves)': False, 'contains(bustier)': False, 'contains(winter)': False, 'contains(attend)': False, 'contains(administering)': False, 'contains(noxima)': False, 'contains(windon)': False, 'contains(tinkling)': False, 'contains(murilo)': False, 'contains(devise)': False, 'contains(hoskins)': False, 'contains(stockpiling)': False, 'contains(cautiously)': False, 'contains(greenfingers)': False, 'contains(avocations)': False, 'contains(montgomery)': False, 'contains(deanna)': False, 'contains(subpar)': False, 'contains(neurological)': False, 'contains(heffron)': False, 'contains(idio)': False, 'contains(public)': False, 'contains(superstition)': False, 'contains(devlish)': False, 'contains(miracle)': False, 'contains(exhilerating)': False, 'contains(ibenez)': False, 'contains(prosecuting)': False, 'contains(causes)': False, 'contains(frampton)': False, 'contains(chumming)': False, 'contains(pyrotechnics)': False, 'contains(copywriters)': False, 'contains(grates)': False, 'contains(saxophone)': False, 'contains(gardens)': False, 'contains(freewheeling)': False, 'contains(climate)': False, 'contains(paled)': False, 'contains(illena)': False, 'contains(brokers)': False, 'contains(battiston)': False, 'contains(175)': False, 'contains(pros)': False, 'contains(gabrielle)': False, 'contains(hughes)': False, 'contains(bachelor)': False, 'contains(exploitative)': False, 'contains(joely)': False, 'contains(accelerated)': False, 'contains(glowering)': False, 'contains(celine)': False, 'contains(greatly)': False, 'contains(detachable)': False, 'contains(mediterranean)': False, 'contains(rod)': False, 'contains(iben)': False, 'contains(propriety)': False, 'contains(resume)': False, 'contains(400)': False, 'contains(outward)': False, 'contains(redford)': False, 'contains(lineage)': False, 'contains(drank)': False, 'contains(======================)': False, 'contains(melanie)': False, 'contains(smelling)': False, 'contains(trudge)': False, 'contains(visitation)': False, 'contains(validates)': False, 'contains(salacious)': False, 'contains(elastic)': False, 'contains(ebony)': False, 'contains(flex)': False, 'contains(vibrations)': False, 'contains(flavoring)': False, 'contains(barton)': False, 'contains(historical)': False, 'contains(cauterizes)': False, 'contains(wrote)': False, 'contains(fibrosis)': False, 'contains(brundage)': False, 'contains(wart)': False, 'contains(corresponds)': False, 'contains(burroughs)': False, 'contains(farina)': False, 'contains(kiffer)': False, 'contains(culturally)': False, 'contains(chrissy)': False, 'contains(madison)': False, 'contains(pairings)': False, 'contains(yar)': False, 'contains(deja)': False, 'contains(horned)': False, 'contains(expletive)': False, 'contains(hershey)': False, 'contains(rounded)': False, 'contains(interviewers)': False, 'contains(powering)': False, 'contains(roscoe)': False, 'contains(dropping)': False, 'contains(unenjoyable)': False, 'contains(lip)': False, 'contains(goateed)': False, 'contains(engelman)': False, 'contains(spruced)': False, 'contains(amistad)': False, 'contains(fishy)': False, 'contains(comprehendably)': False, 'contains(patched)': False, 'contains(schulman)': False, 'contains(gonna)': False, 'contains(erupting)': False, 'contains(reflections)': False, 'contains(stomp)': False, 'contains(teenager)': False, 'contains(blending)': False, 'contains(skulking)': False, 'contains(signy)': False, 'contains(bridget)': False, 'contains(squishing)': False, 'contains(koven)': False, 'contains(gee)': False, 'contains(cycling)': False, 'contains(stallions)': False, 'contains(wylde)': False, 'contains(ride)': False, 'contains(rehearses)': False, 'contains(reviewing)': False, 'contains(sniggering)': False, 'contains(consistently)': False, 'contains(skilled)': False, 'contains(defy)': False, 'contains(emerge)': False, 'contains(motss)': False, 'contains(forsythe)': False, 'contains(doesnut)': False, 'contains(dorff)': False, 'contains(crazymadinlove)': False, 'contains(putrefaction)': False, 'contains(stout)': False, 'contains(bye)': False, 'contains(sequences)': False, 'contains(redolent)': False, 'contains(eluded)': False, 'contains(clunker)': False, 'contains(caffeinated)': False, 'contains(unreasonable)': False, 'contains(scare)': False, 'contains(planet)': False, 'contains(traveling)': False, 'contains(combed)': False, 'contains(wicked)': False, 'contains(gretta)': False, 'contains(work)': False, 'contains(psyche)': False, 'contains(gluttony)': False, 'contains(doc)': False, 'contains(tinker)': False, 'contains(endured)': False, 'contains(greggory)': False, 'contains(pantomime)': False, 'contains(_halloween)': False, 'contains(osmet)': False, 'contains(represent)': False, 'contains(titular)': False, 'contains(predicament)': False, 'contains(comprehend)': False, 'contains(adaptable)': False, 'contains(invulnerable)': False, 'contains(meaninglessness)': False, 'contains(lapoirie)': False, 'contains(becker)': False, 'contains(imaginable)': False, 'contains(psychological)': False, 'contains(guevera)': False, 'contains(wondering)': True, 'contains(rainy)': False, 'contains(lyonne)': False, 'contains(kaufman)': False, 'contains(sculptures)': False, 'contains(ephrons)': False, 'contains(million)': True, 'contains(fueling)': False, 'contains(smashingly)': False, 'contains(dolled)': False, 'contains(memorizing)': False, 'contains(gilbert)': False, 'contains(giacomo)': False, 'contains(henderson)': False, 'contains(overworking)': False, 'contains(killlers)': False, 'contains(3rd)': False, 'contains(sweeping)': False, 'contains(postcard)': False, 'contains(declared)': False, 'contains(amended)': False, 'contains(preconceptions)': False, 'contains(gory)': False, 'contains(rocketry)': False, 'contains(entrepreneurial)': False, 'contains(shitheads)': False, 'contains(magic)': False, 'contains(nc)': False, 'contains(padua)': False, 'contains(pregnancy)': False, 'contains(skinheads)': False, 'contains(weakens)': False, 'contains(ornithologist)': False, 'contains(stiller)': False, 'contains(stir)': False, 'contains(blouse)': False, 'contains(forsyth)': False, 'contains(sophomore)': False, 'contains(frantic)': False, 'contains(headfirst)': False, 'contains(mode)': False, 'contains(tarnished)': False, 'contains(contributed)': False, 'contains(nobility)': False, 'contains(hopelessness)': False, 'contains(max)': False, 'contains(draws)': False, 'contains(profaner)': False, 'contains(lindinger)': False, 'contains(paradoxical)': False, 'contains(slimy)': False, 'contains(caberat)': False, 'contains(awesomeness)': False, 'contains(arezzo)': False, 'contains(tracy)': False, 'contains(disconnect)': False, 'contains(destruction)': False, 'contains(panamanian)': False, 'contains(supplementing)': False, 'contains(informal)': False, 'contains(preliminary)': False, 'contains(zachary)': False, 'contains(beekeeping)': False, 'contains(cramp)': False, 'contains(extraordinaire)': False, 'contains(trois)': False, 'contains(joon)': False, 'contains(makeshift)': False, 'contains(distributed)': False, 'contains(though)': False, 'contains(cancelled)': False, 'contains(allen)': False, 'contains(misdirection)': False, 'contains(lavishness)': False, 'contains(aimed)': False, 'contains(needed)': False, 'contains(gras)': False, 'contains(detmer)': False, 'contains(chazz)': False, 'contains(hostages)': False, 'contains(occupational)': False, 'contains(cleveland)': False, 'contains(muddling)': False, 'contains(swastikas)': False, 'contains(carlos)': False, 'contains(warming)': False, 'contains(rv)': False, 'contains(equated)': False, 'contains(globel)': False, 'contains(byrne)': False, 'contains(ghettos)': False, 'contains(terribly)': False, 'contains(precipices)': False, 'contains(foolery)': False, 'contains(briefcase)': False, 'contains(patrolled)': False, 'contains(extravaganza)': False, 'contains(distended)': False, 'contains(singable)': False, 'contains(courtney)': False, 'contains(secession)': False, 'contains(overturned)': False, 'contains(finely)': False, 'contains(songs)': False, 'contains(cigarettes)': False, 'contains(divulging)': False, 'contains(elastica)': False, 'contains(berlinger)': False, 'contains(crafted)': False, 'contains(believable)': False, 'contains(brigand)': False, 'contains(gloat)': False, 'contains(moretti)': False, 'contains(looping)': False, 'contains(spectacle)': False, 'contains(irate)': False, 'contains(universal)': False, 'contains(changes)': False, 'contains(relatively)': False, 'contains(shogun)': False, 'contains(snub)': False, 'contains(spleen)': False, 'contains(according)': False, 'contains(stacked)': False, 'contains(tropes)': False, 'contains(reeves)': False, 'contains(boxed)': False, 'contains(wrongs)': False, 'contains(massacusetts)': False, 'contains(encountering)': False, 'contains(wry)': False, 'contains(oxymoron)': False, 'contains(shrinks)': False, 'contains(runway)': False, 'contains(aped)': False, 'contains(remake)': False, 'contains(operators)': False, 'contains(battler)': False, 'contains(academic)': False, 'contains(leasure)': False, 'contains(ke)': False, 'contains(abyss)': False, 'contains(wisconsin)': False, 'contains(apperance)': False, 'contains(har)': False, 'contains(macpherson)': False, 'contains(skill)': False, 'contains(fist)': False, 'contains(menacingly)': False, 'contains(supervisor)': False, 'contains(dennison)': False, 'contains(website)': False, 'contains(moo)': False, 'contains(superficial)': False, 'contains(henna)': False, 'contains(gassing)': False, 'contains(30m)': False, 'contains(dress)': False, 'contains(goro)': False, 'contains(whimpers)': False, 'contains(kenny)': False, 'contains(ranges)': False, 'contains(paul)': False, 'contains(independant)': False, 'contains(local)': False, 'contains(fabulous)': False, 'contains(bosomy)': False, 'contains(inspirations)': False, 'contains(object)': False, 'contains(haters)': False, 'contains(nova)': False, 'contains(shakespearian)': False, 'contains(discomfort)': False, 'contains(unabomber)': False, 'contains(uneasieness)': False, 'contains(patricia)': False, 'contains(illustration)': False, 'contains(gwyneth)': False, 'contains(parking)': False, 'contains(maintained)': False, 'contains(buzzsaw)': False, 'contains(tgif)': False, 'contains(comedy)': True, 'contains(takeshi)': False, 'contains(kindhearted)': False, 'contains(jojo)': False, 'contains(storybook)': False, 'contains(je)': False, 'contains(stripe)': False, 'contains(missles)': False, 'contains(palitaliano)': False, 'contains(appreciating)': False, 'contains(seeds)': False, 'contains(assumed)': False, 'contains(plaza)': False, 'contains(townsperson)': False, 'contains(success)': False, 'contains(yakusho)': False, 'contains(intolerable)': False, 'contains(protests)': False, 'contains(aging)': False, 'contains(dirk)': False, 'contains(electrical)': False, 'contains(lounging)': False, 'contains(appetizer)': False, 'contains(imogen)': False, 'contains(miranda)': False, 'contains(mockingly)': False, 'contains(incinerating)': False, 'contains(illuminate)': False, 'contains(dullest)': False, 'contains(cece)': False, 'contains(faa)': False, 'contains(messier)': False, 'contains(thai)': False, 'contains(efficiently)': False, 'contains(beset)': False, 'contains(spilt)': False, 'contains(toying)': False, 'contains(smalltown)': False, 'contains($$)': False, 'contains(vanni)': False, 'contains(substories)': False, 'contains(rigueur)': False, 'contains(katharine)': False, 'contains(piers)': False, 'contains(nauseous)': False, 'contains(baldly)': False, 'contains(aoki)': False, 'contains(vladimir)': False, 'contains(mantle)': False, 'contains(objects)': False, 'contains(independently)': False, 'contains(catalyst)': False, 'contains(didja)': False, 'contains(titmalau)': False, 'contains(precariously)': False, 'contains(somesuch)': False, 'contains(pimp)': False, 'contains(chauffeuring)': False, 'contains(tablet)': False, 'contains(realism)': False, 'contains(queue)': False, 'contains(pnly)': False, 'contains(coloring)': False, 'contains(quarry)': False, 'contains(crewman)': False, 'contains(carpenters)': False, 'contains(monkey)': False, 'contains(venture)': False, 'contains(uninhabitable)': False, 'contains(masters)': False, 'contains(deserved)': False, 'contains(import)': False, 'contains(zaentz)': False, 'contains(bypassed)': False, 'contains(bundle)': False, 'contains(1298)': False, 'contains(vrooshka)': False, 'contains(affability)': False, 'contains(ravell)': False, 'contains(chemically)': False, 'contains(miserable)': False, 'contains(letterbox)': False, 'contains(arkham)': False, 'contains(narratives)': False, 'contains(fatass)': False, 'contains(beliavable)': False, 'contains(foregrounds)': False, 'contains(nagging)': False, 'contains(nhu)': False, 'contains(intrigued)': False, 'contains(micheal)': False, 'contains(just)': True, 'contains(medic)': False, 'contains(gallantry)': False, 'contains(pasta)': False, 'contains(reacquainted)': False, 'contains(machineguns)': False, 'contains(indiscernable)': False, 'contains(molly)': False, 'contains(luhrmann)': False, 'contains(flee)': False, 'contains(mehrjui)': False, 'contains(belone)': False, 'contains(kurosawa)': False, 'contains(1847)': False, 'contains(1913)': False, 'contains(hesitate)': False, 'contains(fishnets)': False, 'contains(prowess)': False, 'contains(production)': False, 'contains(swans)': False, 'contains(james)': False, 'contains(kong)': True, 'contains(7000)': False, 'contains(trading)': False, 'contains(sponge)': False, 'contains(lecturing)': False, 'contains(stifling)': False, 'contains(schneider)': False, 'contains(soles)': False, 'contains(thespians)': False, 'contains(generically)': False, 'contains(plopped)': False, 'contains(alzhiemer)': False, 'contains(synchronised)': False, 'contains(premise)': False, 'contains(missy)': False, 'contains(oriential)': False, 'contains(repugnant)': False, 'contains(mcgreggor)': False, 'contains(outclass)': False, 'contains(internal)': False, 'contains(pinkie)': False, 'contains(disclose)': False, 'contains(halliwell)': False, 'contains(tantalizing)': False, 'contains(simpsons)': False, 'contains(lewinsky)': False, 'contains(whence)': False, 'contains(needle)': False, 'contains(merle)': False, 'contains(masterfully)': False, 'contains(nears)': False, 'contains(ende)': False, 'contains(perplexes)': False, 'contains(remastered)': False, 'contains(bizzare)': False, 'contains(offing)': False, 'contains(sunning)': False, 'contains(hopper)': False, 'contains(criticized)': False, 'contains(troops)': False, 'contains(uncut)': False, 'contains(suspiciously)': False, 'contains(storm)': False, 'contains(filthy)': False, 'contains(enforcer)': False, 'contains(hugo)': False, 'contains(dome)': False, 'contains(cryogenic)': False, 'contains(upping)': False, 'contains(heald)': False, 'contains(acuity)': False, 'contains(feral)': False, 'contains(unclaimed)': False, 'contains(venereal)': False, 'contains(jonnie)': False, 'contains(twitches)': False, 'contains(october)': False, 'contains(2024)': False, 'contains(rover)': False, 'contains(ravich)': False, 'contains(screenplays)': False, 'contains(mathew)': False, 'contains(distant)': False, 'contains(users)': False, 'contains(eviscerated)': False, 'contains(fulci)': False, 'contains(cpr)': False, 'contains(eastern)': False, 'contains(grandparents)': False, 'contains(kihlstedt)': False, 'contains(play)': False, 'contains(waif)': False, 'contains(afforded)': False, 'contains(underwritten)': False, 'contains(hendricks)': False, 'contains(sammo)': False, 'contains(approved)': False, 'contains(matilda)': False, 'contains(audio)': False, 'contains(hinds)': False, 'contains(sk)': False, 'contains(dershowitz)': False, 'contains(mallet)': False, 'contains(amalgam)': False, 'contains(charlotte)': False, 'contains(perfomances)': False, 'contains(telegraphed)': False, 'contains(com)': False, 'contains(vampy)': False, 'contains(adepts)': True, 'contains(mediating)': False, 'contains(zwick)': False, 'contains(commodities)': False, 'contains(genuises)': False, 'contains(cheadle)': False, 'contains(unmitigatedly)': False}\n"
     ]
    }
   ],
   "source": [
    ">>> print(document_features(movie_reviews.words('pos/cv957_8737.txt'))) \n"
   ]
  },
  {
   "cell_type": "code",
   "execution_count": null,
   "metadata": {
    "collapsed": true
   },
   "outputs": [],
   "source": [
    "featuresets = [(document_features(d), c) for (d,c) in documents]\n",
    "train_set, test_set = featuresets[100:], featuresets[:100]\n",
    "classifier = nltk.NaiveBayesClassifier.train(train_set)"
   ]
  },
  {
   "cell_type": "code",
   "execution_count": null,
   "metadata": {
    "collapsed": true
   },
   "outputs": [],
   "source": [
    ">>> print(nltk.classify.accuracy(classifier, test_set)) [1]\n"
   ]
  },
  {
   "cell_type": "code",
   "execution_count": null,
   "metadata": {
    "collapsed": true
   },
   "outputs": [],
   "source": [
    ">>> classifier.show_most_informative_features(5) [2]\n"
   ]
  },
  {
   "cell_type": "code",
   "execution_count": null,
   "metadata": {
    "collapsed": true
   },
   "outputs": [],
   "source": [
    ">>> from nltk.corpus import brown\n",
    ">>> suffix_fdist = nltk.FreqDist()\n",
    ">>> for word in brown.words():\n",
    "...     word = word.lower()\n",
    "...     suffix_fdist[word[-1:]] += 1\n",
    "...     suffix_fdist[word[-2:]] += 1\n",
    "...     suffix_fdist[word[-3:]] += 1"
   ]
  },
  {
   "cell_type": "code",
   "execution_count": null,
   "metadata": {
    "collapsed": true
   },
   "outputs": [],
   "source": [
    ">>> common_suffixes = [suffix for (suffix, count) in suffix_fdist.most_common(100)]\n",
    ">>> print(common_suffixes)"
   ]
  },
  {
   "cell_type": "code",
   "execution_count": null,
   "metadata": {
    "collapsed": true
   },
   "outputs": [],
   "source": [
    ">>> def pos_features(word):\n",
    "...     features = {}\n",
    "...     for suffix in common_suffixes:\n",
    "...         features['endswith({})'.format(suffix)] = word.lower().endswith(suffix)\n",
    "...     return features"
   ]
  },
  {
   "cell_type": "code",
   "execution_count": null,
   "metadata": {
    "collapsed": true
   },
   "outputs": [],
   "source": [
    ">>> tagged_words = brown.tagged_words(categories='news')\n",
    ">>> featuresets = [(pos_features(n), g) for (n,g) in tagged_words]"
   ]
  },
  {
   "cell_type": "code",
   "execution_count": null,
   "metadata": {
    "collapsed": true
   },
   "outputs": [],
   "source": [
    ">>> size = int(len(featuresets) * 0.1)\n",
    ">>> train_set, test_set = featuresets[size:], featuresets[:size]"
   ]
  },
  {
   "cell_type": "code",
   "execution_count": null,
   "metadata": {
    "collapsed": true
   },
   "outputs": [],
   "source": [
    ">>> classifier = nltk.DecisionTreeClassifier.train(train_set)\n",
    ">>> nltk.classify.accuracy(classifier, test_set)"
   ]
  },
  {
   "cell_type": "code",
   "execution_count": null,
   "metadata": {
    "collapsed": true
   },
   "outputs": [],
   "source": [
    ">>> classifier.classify(pos_features('cats'))"
   ]
  }
 ],
 "metadata": {
  "kernelspec": {
   "display_name": "Python [Root]",
   "language": "python",
   "name": "Python [Root]"
  },
  "language_info": {
   "codemirror_mode": {
    "name": "ipython",
    "version": 3
   },
   "file_extension": ".py",
   "mimetype": "text/x-python",
   "name": "python",
   "nbconvert_exporter": "python",
   "pygments_lexer": "ipython3",
   "version": "3.5.2"
  }
 },
 "nbformat": 4,
 "nbformat_minor": 0
}
