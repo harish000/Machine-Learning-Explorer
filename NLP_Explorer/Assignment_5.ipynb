{
 "cells": [
  {
   "cell_type": "code",
   "execution_count": 4,
   "metadata": {
    "collapsed": true
   },
   "outputs": [],
   "source": [
    "from nltk import *"
   ]
  },
  {
   "cell_type": "code",
   "execution_count": 7,
   "metadata": {
    "collapsed": false
   },
   "outputs": [],
   "source": [
    "s = \"\"\"The fourth Wells account moving to another agency is the packaged paper-products division of Georgia-Pacific Corp., \n",
    "which arrived at Wells only last fall. Like Hertz and the History Channel, \n",
    "it is also leaving for an Omnicom-owned agency, the BBDO South unit of BBDO Worldwide. \n",
    "BBDO South in Atlanta, which handles corporate advertising for Georgia-Pacific,\n",
    "will assume additional duties for brands like Angel Soft toilet tissue and Sparkle paper towels, \n",
    "said Ken Haldin, a spokesman for Georgia-Pacific in Atlanta.\"\"\""
   ]
  },
  {
   "cell_type": "code",
   "execution_count": 11,
   "metadata": {
    "collapsed": false
   },
   "outputs": [
    {
     "data": {
      "text/plain": [
       "[('The', 'DT'),\n",
       " ('fourth', 'JJ'),\n",
       " ('Wells', 'NNP'),\n",
       " ('account', 'NN'),\n",
       " ('moving', 'VBG'),\n",
       " ('to', 'TO'),\n",
       " ('another', 'DT'),\n",
       " ('agency', 'NN'),\n",
       " ('is', 'VBZ'),\n",
       " ('the', 'DT'),\n",
       " ('packaged', 'VBN'),\n",
       " ('paper-products', 'NNS'),\n",
       " ('division', 'NN'),\n",
       " ('of', 'IN'),\n",
       " ('Georgia-Pacific', 'NNP'),\n",
       " ('Corp.', 'NNP'),\n",
       " (',', ','),\n",
       " ('which', 'WDT'),\n",
       " ('arrived', 'VBD'),\n",
       " ('at', 'IN'),\n",
       " ('Wells', 'NNP'),\n",
       " ('only', 'RB'),\n",
       " ('last', 'JJ'),\n",
       " ('fall', 'NN'),\n",
       " ('.', '.'),\n",
       " ('Like', 'IN'),\n",
       " ('Hertz', 'NNP'),\n",
       " ('and', 'CC'),\n",
       " ('the', 'DT'),\n",
       " ('History', 'NNP'),\n",
       " ('Channel', 'NNP'),\n",
       " (',', ','),\n",
       " ('it', 'PRP'),\n",
       " ('is', 'VBZ'),\n",
       " ('also', 'RB'),\n",
       " ('leaving', 'VBG'),\n",
       " ('for', 'IN'),\n",
       " ('an', 'DT'),\n",
       " ('Omnicom-owned', 'JJ'),\n",
       " ('agency', 'NN'),\n",
       " (',', ','),\n",
       " ('the', 'DT'),\n",
       " ('BBDO', 'NNP'),\n",
       " ('South', 'NNP'),\n",
       " ('unit', 'NN'),\n",
       " ('of', 'IN'),\n",
       " ('BBDO', 'NNP'),\n",
       " ('Worldwide', 'NNP'),\n",
       " ('.', '.'),\n",
       " ('BBDO', 'NNP'),\n",
       " ('South', 'NNP'),\n",
       " ('in', 'IN'),\n",
       " ('Atlanta', 'NNP'),\n",
       " (',', ','),\n",
       " ('which', 'WDT'),\n",
       " ('handles', 'VBZ'),\n",
       " ('corporate', 'JJ'),\n",
       " ('advertising', 'NN'),\n",
       " ('for', 'IN'),\n",
       " ('Georgia-Pacific', 'NNP'),\n",
       " (',', ','),\n",
       " ('will', 'MD'),\n",
       " ('assume', 'VB'),\n",
       " ('additional', 'JJ'),\n",
       " ('duties', 'NNS'),\n",
       " ('for', 'IN'),\n",
       " ('brands', 'NNS'),\n",
       " ('like', 'IN'),\n",
       " ('Angel', 'NNP'),\n",
       " ('Soft', 'NNP'),\n",
       " ('toilet', 'NN'),\n",
       " ('tissue', 'NN'),\n",
       " ('and', 'CC'),\n",
       " ('Sparkle', 'NNP'),\n",
       " ('paper', 'NN'),\n",
       " ('towels', 'NNS'),\n",
       " (',', ','),\n",
       " ('said', 'VBD'),\n",
       " ('Ken', 'NNP'),\n",
       " ('Haldin', 'NNP'),\n",
       " (',', ','),\n",
       " ('a', 'DT'),\n",
       " ('spokesman', 'NN'),\n",
       " ('for', 'IN'),\n",
       " ('Georgia-Pacific', 'NNP'),\n",
       " ('in', 'IN'),\n",
       " ('Atlanta', 'NNP'),\n",
       " ('.', '.')]"
      ]
     },
     "execution_count": 11,
     "metadata": {},
     "output_type": "execute_result"
    }
   ],
   "source": [
    "s_tokens = word_tokenize(s)\n",
    "s_pos = pos_tag(s_tokens)\n",
    "s_pos"
   ]
  },
  {
   "cell_type": "code",
   "execution_count": 12,
   "metadata": {
    "collapsed": false
   },
   "outputs": [
    {
     "name": "stdout",
     "output_type": "stream",
     "text": [
      "(S\n",
      "  (NP The/DT fourth/JJ Wells/NNP account/NN)\n",
      "  moving/VBG\n",
      "  to/TO\n",
      "  (NP another/DT agency/NN)\n",
      "  is/VBZ\n",
      "  (NP the/DT)\n",
      "  packaged/VBN\n",
      "  (NP paper-products/NNS division/NN)\n",
      "  (PP of/IN (NP Georgia-Pacific/NNP Corp./NNP))\n",
      "  ,/,\n",
      "  which/WDT\n",
      "  arrived/VBD\n",
      "  (PP at/IN (NP Wells/NNP))\n",
      "  only/RB\n",
      "  (NP last/JJ fall/NN)\n",
      "  ./.\n",
      "  (PP Like/IN (NP Hertz/NNP))\n",
      "  and/CC\n",
      "  (NP the/DT History/NNP Channel/NNP)\n",
      "  ,/,\n",
      "  it/PRP\n",
      "  is/VBZ\n",
      "  also/RB\n",
      "  leaving/VBG\n",
      "  (PP for/IN (NP an/DT Omnicom-owned/JJ agency/NN))\n",
      "  ,/,\n",
      "  (NP the/DT BBDO/NNP South/NNP unit/NN)\n",
      "  (PP of/IN (NP BBDO/NNP Worldwide/NNP))\n",
      "  ./.\n",
      "  (NP BBDO/NNP South/NNP)\n",
      "  (PP in/IN (NP Atlanta/NNP))\n",
      "  ,/,\n",
      "  which/WDT\n",
      "  handles/VBZ\n",
      "  (NP corporate/JJ advertising/NN)\n",
      "  (PP for/IN (NP Georgia-Pacific/NNP))\n",
      "  ,/,\n",
      "  will/MD\n",
      "  assume/VB\n",
      "  (NP additional/JJ duties/NNS)\n",
      "  (PP for/IN (NP brands/NNS))\n",
      "  (PP like/IN (NP Angel/NNP Soft/NNP toilet/NN tissue/NN))\n",
      "  and/CC\n",
      "  (NP Sparkle/NNP paper/NN towels/NNS)\n",
      "  ,/,\n",
      "  said/VBD\n",
      "  (NP Ken/NNP Haldin/NNP)\n",
      "  ,/,\n",
      "  (NP a/DT spokesman/NN)\n",
      "  (PP for/IN (NP Georgia-Pacific/NNP))\n",
      "  (PP in/IN (NP Atlanta/NNP))\n",
      "  ./.)\n"
     ]
    }
   ],
   "source": [
    "grammar = r\"\"\"\n",
    "  NP: {<DT|JJ|NN.*>+}          # Chunk sequences of DT, JJ, NN\n",
    "  PP: {<IN><NP>}               # Chunk prepositions followed by NP\n",
    "  VP: {<VB.*><NP|PP|CLAUSE>+$} # Chunk verbs and their arguments\n",
    "  CLAUSE: {<NP><VP>}           # Chunk NP, VP\n",
    "  \"\"\"\n",
    "cp = RegexpParser(grammar)\n",
    "s_grammer = cp.parse(s_pos)\n",
    "print(s_grammer)"
   ]
  },
  {
   "cell_type": "code",
   "execution_count": 16,
   "metadata": {
    "collapsed": true
   },
   "outputs": [],
   "source": [
    "s_grammer.draw()"
   ]
  },
  {
   "cell_type": "code",
   "execution_count": 13,
   "metadata": {
    "collapsed": true
   },
   "outputs": [],
   "source": [
    "from nltk import *\n",
    "s = '''The fourth Wells account moving to another agency is the packaged paper-products division of Georgia-Pacific Corp., \n",
    "which arrived at Wells only last fall. Like Hertz and the History Channel, \n",
    "it is also leaving for an Omnicom-owned agency, the BBDO South unit of BBDO Worldwide. \n",
    "BBDO South in Atlanta, which handles corporate advertising for Georgia-Pacific,\n",
    "will assume additional duties for brands like Angel Soft toilet tissue and Sparkle paper towels, \n",
    "said Ken Haldin, a spokesman for Georgia-Pacific in Atlanta.'''"
   ]
  },
  {
   "cell_type": "code",
   "execution_count": 32,
   "metadata": {
    "collapsed": false
   },
   "outputs": [
    {
     "name": "stdout",
     "output_type": "stream",
     "text": [
      "(S\n",
      "  The/DT\n",
      "  fourth/JJ\n",
      "  (NP Wells/NNP account/NN)\n",
      "  moving/VBG\n",
      "  to/TO\n",
      "  another/DT\n",
      "  (NP agency/NN)\n",
      "  is/VBZ\n",
      "  the/DT\n",
      "  packaged/VBN\n",
      "  (NP\n",
      "    paper-products/NNS\n",
      "    division/NN\n",
      "    of/IN\n",
      "    Georgia-Pacific/NNP\n",
      "    Corp./NNP)\n",
      "  ,/,\n",
      "  which/WDT\n",
      "  arrived/VBD\n",
      "  (NP at/IN Wells/NNP)\n",
      "  only/RB\n",
      "  last/JJ\n",
      "  (NP fall/NN)\n",
      "  ./.\n",
      "  (NP Like/IN Hertz/NNP)\n",
      "  and/CC\n",
      "  the/DT\n",
      "  (NP History/NNP Channel/NNP)\n",
      "  ,/,\n",
      "  it/PRP\n",
      "  is/VBZ\n",
      "  also/RB\n",
      "  leaving/VBG\n",
      "  (NP for/IN)\n",
      "  an/DT\n",
      "  Omnicom-owned/JJ\n",
      "  (NP agency/NN)\n",
      "  ,/,\n",
      "  the/DT\n",
      "  (NP BBDO/NNP South/NNP unit/NN of/IN BBDO/NNP Worldwide/NNP)\n",
      "  ./.\n",
      "  (NP BBDO/NNP South/NNP in/IN Atlanta/NNP)\n",
      "  ,/,\n",
      "  which/WDT\n",
      "  handles/VBZ\n",
      "  corporate/JJ\n",
      "  (NP advertising/NN for/IN Georgia-Pacific/NNP)\n",
      "  ,/,\n",
      "  will/MD\n",
      "  assume/VB\n",
      "  additional/JJ\n",
      "  (NP\n",
      "    duties/NNS\n",
      "    for/IN\n",
      "    brands/NNS\n",
      "    like/IN\n",
      "    Angel/NNP\n",
      "    Soft/NNP\n",
      "    toilet/NN\n",
      "    tissue/NN)\n",
      "  and/CC\n",
      "  (NP Sparkle/NNP paper/NN towels/NNS)\n",
      "  ,/,\n",
      "  said/VBD\n",
      "  (NP Ken/NNP Haldin/NNP)\n",
      "  ,/,\n",
      "  a/DT\n",
      "  (NP spokesman/NN for/IN Georgia-Pacific/NNP in/IN Atlanta/NNP)\n",
      "  ./.)\n"
     ]
    }
   ],
   "source": [
    "grammar = r\"\"\"\n",
    "  NP: {<NN.*|IN|NN.*>+}          # Chunk sequences of NN, JJ, NN\n",
    "  \"\"\"\n",
    "cp = RegexpParser(grammar)\n",
    "s_grammer = cp.parse(s_pos)\n",
    "print(s_grammer)"
   ]
  },
  {
   "cell_type": "code",
   "execution_count": 33,
   "metadata": {
    "collapsed": true
   },
   "outputs": [],
   "source": [
    "s_grammer.draw()"
   ]
  },
  {
   "cell_type": "code",
   "execution_count": 24,
   "metadata": {
    "collapsed": false
   },
   "outputs": [
    {
     "name": "stdout",
     "output_type": "stream",
     "text": [
      "IN: preposition or conjunction, subordinating\n",
      "    astride among uppon whether out inside pro despite on by throughout\n",
      "    below within for towards near behind atop around if like until below\n",
      "    next into if beside ...\n",
      "None\n"
     ]
    }
   ],
   "source": [
    "print(help.upenn_tagset('IN'))"
   ]
  },
  {
   "cell_type": "code",
   "execution_count": null,
   "metadata": {
    "collapsed": true
   },
   "outputs": [],
   "source": []
  }
 ],
 "metadata": {
  "kernelspec": {
   "display_name": "Python [Root]",
   "language": "python",
   "name": "Python [Root]"
  },
  "language_info": {
   "codemirror_mode": {
    "name": "ipython",
    "version": 3
   },
   "file_extension": ".py",
   "mimetype": "text/x-python",
   "name": "python",
   "nbconvert_exporter": "python",
   "pygments_lexer": "ipython3",
   "version": "3.5.2"
  }
 },
 "nbformat": 4,
 "nbformat_minor": 0
}
