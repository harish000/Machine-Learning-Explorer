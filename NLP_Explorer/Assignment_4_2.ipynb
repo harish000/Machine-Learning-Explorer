{
 "cells": [
  {
   "cell_type": "code",
   "execution_count": 1,
   "metadata": {
    "collapsed": false
   },
   "outputs": [
    {
     "data": {
      "text/plain": [
       "{'last_letter': 'k'}"
      ]
     },
     "execution_count": 1,
     "metadata": {},
     "output_type": "execute_result"
    }
   ],
   "source": [
    ">>> def gender_features(word):\n",
    "...     return {'last_letter': word[-1]}\n",
    ">>> gender_features('Shrek')\n",
    "{'last_letter': 'k'}"
   ]
  },
  {
   "cell_type": "code",
   "execution_count": 2,
   "metadata": {
    "collapsed": true
   },
   "outputs": [],
   "source": [
    ">>> from nltk.corpus import names\n",
    ">>> labeled_names = ([(name, 'male') for name in names.words('male.txt')] +\n",
    "... [(name, 'female') for name in names.words('female.txt')])\n",
    ">>> import random\n",
    ">>> random.shuffle(labeled_names)"
   ]
  },
  {
   "cell_type": "code",
   "execution_count": 4,
   "metadata": {
    "collapsed": false
   },
   "outputs": [],
   "source": [
    "from nltk import *\n",
    ">>> featuresets = [(gender_features(n), gender) for (n, gender) in labeled_names]\n",
    ">>> train_set, test_set = featuresets[500:], featuresets[:500]\n",
    ">>> classifier = NaiveBayesClassifier.train(train_set)"
   ]
  },
  {
   "cell_type": "code",
   "execution_count": 5,
   "metadata": {
    "collapsed": false
   },
   "outputs": [
    {
     "data": {
      "text/plain": [
       "'male'"
      ]
     },
     "execution_count": 5,
     "metadata": {},
     "output_type": "execute_result"
    }
   ],
   "source": [
    ">>> classifier.classify(gender_features('Neo'))\n"
   ]
  },
  {
   "cell_type": "code",
   "execution_count": 6,
   "metadata": {
    "collapsed": false
   },
   "outputs": [
    {
     "data": {
      "text/plain": [
       "'female'"
      ]
     },
     "execution_count": 6,
     "metadata": {},
     "output_type": "execute_result"
    }
   ],
   "source": [
    ">>> classifier.classify(gender_features('Trinity'))\n"
   ]
  },
  {
   "cell_type": "code",
   "execution_count": 8,
   "metadata": {
    "collapsed": false
   },
   "outputs": [
    {
     "name": "stdout",
     "output_type": "stream",
     "text": [
      "0.774\n"
     ]
    }
   ],
   "source": [
    ">>> print(classify.accuracy(classifier, test_set))\n"
   ]
  },
  {
   "cell_type": "code",
   "execution_count": 9,
   "metadata": {
    "collapsed": false
   },
   "outputs": [
    {
     "name": "stdout",
     "output_type": "stream",
     "text": [
      "Most Informative Features\n",
      "             last_letter = 'a'            female : male   =     34.4 : 1.0\n",
      "             last_letter = 'k'              male : female =     31.1 : 1.0\n",
      "             last_letter = 'f'              male : female =     13.8 : 1.0\n",
      "             last_letter = 'p'              male : female =     11.8 : 1.0\n",
      "             last_letter = 'v'              male : female =     11.1 : 1.0\n"
     ]
    }
   ],
   "source": [
    ">>> classifier.show_most_informative_features(5)\n"
   ]
  },
  {
   "cell_type": "code",
   "execution_count": 10,
   "metadata": {
    "collapsed": true
   },
   "outputs": [],
   "source": [
    ">>> from nltk.classify import apply_features\n",
    ">>> train_set = apply_features(gender_features, labeled_names[500:])\n",
    ">>> test_set = apply_features(gender_features, labeled_names[:500])"
   ]
  },
  {
   "cell_type": "code",
   "execution_count": 11,
   "metadata": {
    "collapsed": true
   },
   "outputs": [],
   "source": [
    "def gender_features2(name):\n",
    "    features = {}\n",
    "    features[\"first_letter\"] = name[0].lower()\n",
    "    features[\"last_letter\"] = name[-1].lower()\n",
    "    for letter in 'abcdefghijklmnopqrstuvwxyz':\n",
    "        features[\"count({})\".format(letter)] = name.lower().count(letter)\n",
    "        features[\"has({})\".format(letter)] = (letter in name.lower())\n",
    "    return features"
   ]
  },
  {
   "cell_type": "code",
   "execution_count": 12,
   "metadata": {
    "collapsed": false
   },
   "outputs": [
    {
     "data": {
      "text/plain": [
       "{'count(a)': 0,\n",
       " 'count(b)': 0,\n",
       " 'count(c)': 0,\n",
       " 'count(d)': 0,\n",
       " 'count(e)': 0,\n",
       " 'count(f)': 0,\n",
       " 'count(g)': 0,\n",
       " 'count(h)': 1,\n",
       " 'count(i)': 0,\n",
       " 'count(j)': 1,\n",
       " 'count(k)': 0,\n",
       " 'count(l)': 0,\n",
       " 'count(m)': 0,\n",
       " 'count(n)': 1,\n",
       " 'count(o)': 1,\n",
       " 'count(p)': 0,\n",
       " 'count(q)': 0,\n",
       " 'count(r)': 0,\n",
       " 'count(s)': 0,\n",
       " 'count(t)': 0,\n",
       " 'count(u)': 0,\n",
       " 'count(v)': 0,\n",
       " 'count(w)': 0,\n",
       " 'count(x)': 0,\n",
       " 'count(y)': 0,\n",
       " 'count(z)': 0,\n",
       " 'first_letter': 'j',\n",
       " 'has(a)': False,\n",
       " 'has(b)': False,\n",
       " 'has(c)': False,\n",
       " 'has(d)': False,\n",
       " 'has(e)': False,\n",
       " 'has(f)': False,\n",
       " 'has(g)': False,\n",
       " 'has(h)': True,\n",
       " 'has(i)': False,\n",
       " 'has(j)': True,\n",
       " 'has(k)': False,\n",
       " 'has(l)': False,\n",
       " 'has(m)': False,\n",
       " 'has(n)': True,\n",
       " 'has(o)': True,\n",
       " 'has(p)': False,\n",
       " 'has(q)': False,\n",
       " 'has(r)': False,\n",
       " 'has(s)': False,\n",
       " 'has(t)': False,\n",
       " 'has(u)': False,\n",
       " 'has(v)': False,\n",
       " 'has(w)': False,\n",
       " 'has(x)': False,\n",
       " 'has(y)': False,\n",
       " 'has(z)': False,\n",
       " 'last_letter': 'n'}"
      ]
     },
     "execution_count": 12,
     "metadata": {},
     "output_type": "execute_result"
    }
   ],
   "source": [
    ">>> gender_features2('John') \n"
   ]
  },
  {
   "cell_type": "code",
   "execution_count": 16,
   "metadata": {
    "collapsed": false
   },
   "outputs": [
    {
     "name": "stdout",
     "output_type": "stream",
     "text": [
      "0.778\n"
     ]
    }
   ],
   "source": [
    ">>> featuresets = [(gender_features2(n), gender) for (n, gender) in labeled_names]\n",
    ">>> train_set, test_set = featuresets[500:], featuresets[:500]\n",
    ">>> classifier = NaiveBayesClassifier.train(train_set)\n",
    ">>> print(classify.accuracy(classifier, test_set))"
   ]
  },
  {
   "cell_type": "code",
   "execution_count": 17,
   "metadata": {
    "collapsed": true
   },
   "outputs": [],
   "source": [
    ">>> train_names = labeled_names[1500:]\n",
    ">>> devtest_names = labeled_names[500:1500]\n",
    ">>> test_names = labeled_names[:500]"
   ]
  },
  {
   "cell_type": "code",
   "execution_count": 19,
   "metadata": {
    "collapsed": false
   },
   "outputs": [
    {
     "name": "stdout",
     "output_type": "stream",
     "text": [
      "0.746\n"
     ]
    }
   ],
   "source": [
    ">>> train_set = [(gender_features(n), gender) for (n, gender) in train_names]\n",
    ">>> devtest_set = [(gender_features(n), gender) for (n, gender) in devtest_names]\n",
    ">>> test_set = [(gender_features(n), gender) for (n, gender) in test_names]\n",
    ">>> classifier = NaiveBayesClassifier.train(train_set)\n",
    ">>> print(classify.accuracy(classifier, devtest_set))"
   ]
  },
  {
   "cell_type": "code",
   "execution_count": 20,
   "metadata": {
    "collapsed": true
   },
   "outputs": [],
   "source": [
    ">>> errors = []\n",
    ">>> for (name, tag) in devtest_names:\n",
    "...     guess = classifier.classify(gender_features(name))\n",
    "...     if guess != tag:\n",
    "...         errors.append( (tag, guess, name) )"
   ]
  },
  {
   "cell_type": "code",
   "execution_count": 21,
   "metadata": {
    "collapsed": false
   },
   "outputs": [
    {
     "name": "stdout",
     "output_type": "stream",
     "text": [
      "correct=female   guess=male     name=Ag                            \n",
      "correct=female   guess=male     name=Ailyn                         \n",
      "correct=female   guess=male     name=Aleen                         \n",
      "correct=female   guess=male     name=Alleen                        \n",
      "correct=female   guess=male     name=Allis                         \n",
      "correct=female   guess=male     name=Allison                       \n",
      "correct=female   guess=male     name=Allyson                       \n",
      "correct=female   guess=male     name=Anais                         \n",
      "correct=female   guess=male     name=Angel                         \n",
      "correct=female   guess=male     name=April                         \n",
      "correct=female   guess=male     name=Ardelis                       \n",
      "correct=female   guess=male     name=Arden                         \n",
      "correct=female   guess=male     name=Arlyn                         \n",
      "correct=female   guess=male     name=Aryn                          \n",
      "correct=female   guess=male     name=Austin                        \n",
      "correct=female   guess=male     name=Avrit                         \n",
      "correct=female   guess=male     name=Beret                         \n",
      "correct=female   guess=male     name=Berget                        \n",
      "correct=female   guess=male     name=Blondell                      \n",
      "correct=female   guess=male     name=Brandais                      \n",
      "correct=female   guess=male     name=Brooks                        \n",
      "correct=female   guess=male     name=Caitrin                       \n",
      "correct=female   guess=male     name=Cameo                         \n",
      "correct=female   guess=male     name=Carin                         \n",
      "correct=female   guess=male     name=Carmon                        \n",
      "correct=female   guess=male     name=Carol                         \n",
      "correct=female   guess=male     name=Cecil                         \n",
      "correct=female   guess=male     name=Ceil                          \n",
      "correct=female   guess=male     name=Celestyn                      \n",
      "correct=female   guess=male     name=Charlott                      \n",
      "correct=female   guess=male     name=Charmian                      \n",
      "correct=female   guess=male     name=Cherlyn                       \n",
      "correct=female   guess=male     name=Christel                      \n",
      "correct=female   guess=male     name=Christen                      \n",
      "correct=female   guess=male     name=Christian                     \n",
      "correct=female   guess=male     name=Chrystel                      \n",
      "correct=female   guess=male     name=Ciel                          \n",
      "correct=female   guess=male     name=Cleo                          \n",
      "correct=female   guess=male     name=Clio                          \n",
      "correct=female   guess=male     name=Cris                          \n",
      "correct=female   guess=male     name=Cristal                       \n",
      "correct=female   guess=male     name=Cristen                       \n",
      "correct=female   guess=male     name=Cyb                           \n",
      "correct=female   guess=male     name=Danit                         \n",
      "correct=female   guess=male     name=Deb                           \n",
      "correct=female   guess=male     name=Dell                          \n",
      "correct=female   guess=male     name=Devon                         \n",
      "correct=female   guess=male     name=Dyann                         \n",
      "correct=female   guess=male     name=Eden                          \n",
      "correct=female   guess=male     name=Ellyn                         \n",
      "correct=female   guess=male     name=Ester                         \n",
      "correct=female   guess=male     name=Fan                           \n",
      "correct=female   guess=male     name=Faun                          \n",
      "correct=female   guess=male     name=Francis                       \n",
      "correct=female   guess=male     name=Gail                          \n",
      "correct=female   guess=male     name=Gaynor                        \n",
      "correct=female   guess=male     name=Gertrudis                     \n",
      "correct=female   guess=male     name=Gladys                        \n",
      "correct=female   guess=male     name=Glen                          \n",
      "correct=female   guess=male     name=Glennis                       \n",
      "correct=female   guess=male     name=Glynis                        \n",
      "correct=female   guess=male     name=Glynnis                       \n",
      "correct=female   guess=male     name=Grier                         \n",
      "correct=female   guess=male     name=Gwendolin                     \n",
      "correct=female   guess=male     name=Hedwig                        \n",
      "correct=female   guess=male     name=Helen                         \n",
      "correct=female   guess=male     name=Helyn                         \n",
      "correct=female   guess=male     name=Hesther                       \n",
      "correct=female   guess=male     name=Jacquelin                     \n",
      "correct=female   guess=male     name=Jacquelyn                     \n",
      "correct=female   guess=male     name=Janean                        \n",
      "correct=female   guess=male     name=Janet                         \n",
      "correct=female   guess=male     name=Janis                         \n",
      "correct=female   guess=male     name=Jean                          \n",
      "correct=female   guess=male     name=Jesselyn                      \n",
      "correct=female   guess=male     name=Jocelyn                       \n",
      "correct=female   guess=male     name=Joselyn                       \n",
      "correct=female   guess=male     name=Katalin                       \n",
      "correct=female   guess=male     name=Katheleen                     \n",
      "correct=female   guess=male     name=Kial                          \n",
      "correct=female   guess=male     name=Kris                          \n",
      "correct=female   guess=male     name=Kristan                       \n",
      "correct=female   guess=male     name=Lamb                          \n",
      "correct=female   guess=male     name=Laureen                       \n",
      "correct=female   guess=male     name=Leeann                        \n",
      "correct=female   guess=male     name=Lillian                       \n",
      "correct=female   guess=male     name=Lilyan                        \n",
      "correct=female   guess=male     name=Liz                           \n",
      "correct=female   guess=male     name=Lou                           \n",
      "correct=female   guess=male     name=Lulu                          \n",
      "correct=female   guess=male     name=Mair                          \n",
      "correct=female   guess=male     name=Mariann                       \n",
      "correct=female   guess=male     name=Maridel                       \n",
      "correct=female   guess=male     name=Marylin                       \n",
      "correct=female   guess=male     name=Mavis                         \n",
      "correct=female   guess=male     name=Meg                           \n",
      "correct=female   guess=male     name=Meggan                        \n",
      "correct=female   guess=male     name=Meghan                        \n",
      "correct=female   guess=male     name=Meris                         \n",
      "correct=female   guess=male     name=Mildrid                       \n",
      "correct=female   guess=male     name=Morgan                        \n",
      "correct=female   guess=male     name=Nan                           \n",
      "correct=female   guess=male     name=Nat                           \n",
      "correct=female   guess=male     name=Orel                          \n",
      "correct=female   guess=male     name=Peg                           \n",
      "correct=female   guess=male     name=Pegeen                        \n",
      "correct=female   guess=male     name=Phylis                        \n",
      "correct=female   guess=male     name=Phyllis                       \n",
      "correct=female   guess=male     name=Quinn                         \n",
      "correct=female   guess=male     name=Raf                           \n",
      "correct=female   guess=male     name=Raychel                       \n",
      "correct=female   guess=male     name=Reiko                         \n",
      "correct=female   guess=male     name=Renell                        \n",
      "correct=female   guess=male     name=Robbin                        \n",
      "correct=female   guess=male     name=Robyn                         \n",
      "correct=female   guess=male     name=Rosamund                      \n",
      "correct=female   guess=male     name=Roslyn                        \n",
      "correct=female   guess=male     name=Rozamond                      \n",
      "correct=female   guess=male     name=Ruthann                       \n",
      "correct=female   guess=male     name=Scarlet                       \n",
      "correct=female   guess=male     name=Scarlett                      \n",
      "correct=female   guess=male     name=Shamit                        \n",
      "correct=female   guess=male     name=Sharon                        \n",
      "correct=female   guess=male     name=Sharyl                        \n",
      "correct=female   guess=male     name=Shaun                         \n",
      "correct=female   guess=male     name=Shell                         \n",
      "correct=female   guess=male     name=Shirl                         \n",
      "correct=female   guess=male     name=Sibyl                         \n",
      "correct=female   guess=male     name=Susan                         \n",
      "correct=female   guess=male     name=Viv                           \n",
      "correct=male     guess=female   name=Aguste                        \n",
      "correct=male     guess=female   name=Alex                          \n",
      "correct=male     guess=female   name=Allah                         \n",
      "correct=male     guess=female   name=Andy                          \n",
      "correct=male     guess=female   name=Angie                         \n",
      "correct=male     guess=female   name=Arie                          \n",
      "correct=male     guess=female   name=Aube                          \n",
      "correct=male     guess=female   name=Bailie                        \n",
      "correct=male     guess=female   name=Barney                        \n",
      "correct=male     guess=female   name=Bary                          \n",
      "correct=male     guess=female   name=Bay                           \n",
      "correct=male     guess=female   name=Benjie                        \n",
      "correct=male     guess=female   name=Benny                         \n",
      "correct=male     guess=female   name=Brinkley                      \n",
      "correct=male     guess=female   name=Brody                         \n",
      "correct=male     guess=female   name=Burnaby                       \n",
      "correct=male     guess=female   name=Chaddie                       \n",
      "correct=male     guess=female   name=Chase                         \n",
      "correct=male     guess=female   name=Che                           \n",
      "correct=male     guess=female   name=Clancy                        \n",
      "correct=male     guess=female   name=Clare                         \n",
      "correct=male     guess=female   name=Clay                          \n",
      "correct=male     guess=female   name=Claybourne                    \n",
      "correct=male     guess=female   name=Daryle                        \n",
      "correct=male     guess=female   name=Davey                         \n",
      "correct=male     guess=female   name=Durante                       \n",
      "correct=male     guess=female   name=Earle                         \n",
      "correct=male     guess=female   name=Eddy                          \n",
      "correct=male     guess=female   name=Eli                           \n",
      "correct=male     guess=female   name=Farley                        \n",
      "correct=male     guess=female   name=Filmore                       \n",
      "correct=male     guess=female   name=Gabe                          \n",
      "correct=male     guess=female   name=Georgia                       \n",
      "correct=male     guess=female   name=Grady                         \n",
      "correct=male     guess=female   name=Guthrie                       \n",
      "correct=male     guess=female   name=Hamish                        \n",
      "correct=male     guess=female   name=Harley                        \n",
      "correct=male     guess=female   name=Hasty                         \n",
      "correct=male     guess=female   name=Heinrich                      \n",
      "correct=male     guess=female   name=Henri                         \n",
      "correct=male     guess=female   name=Herve                         \n",
      "correct=male     guess=female   name=Hervey                        \n",
      "correct=male     guess=female   name=Hodge                         \n",
      "correct=male     guess=female   name=Huntley                       \n",
      "correct=male     guess=female   name=Ike                           \n",
      "correct=male     guess=female   name=Jamey                         \n",
      "correct=male     guess=female   name=Jean-Christophe               \n",
      "correct=male     guess=female   name=Jedediah                      \n",
      "correct=male     guess=female   name=Jeffery                       \n",
      "correct=male     guess=female   name=Jermayne                      \n",
      "correct=male     guess=female   name=Jesse                         \n",
      "correct=male     guess=female   name=Kelley                        \n",
      "correct=male     guess=female   name=Kermie                        \n",
      "correct=male     guess=female   name=Kingsley                      \n",
      "correct=male     guess=female   name=Lane                          \n",
      "correct=male     guess=female   name=Lanny                         \n",
      "correct=male     guess=female   name=Leigh                         \n",
      "correct=male     guess=female   name=Lennie                        \n",
      "correct=male     guess=female   name=Lindsay                       \n",
      "correct=male     guess=female   name=Lindsey                       \n",
      "correct=male     guess=female   name=Lonnie                        \n",
      "correct=male     guess=female   name=Mace                          \n",
      "correct=male     guess=female   name=Marietta                      \n",
      "correct=male     guess=female   name=Matty                         \n",
      "correct=male     guess=female   name=Maurie                        \n",
      "correct=male     guess=female   name=Max                           \n",
      "correct=male     guess=female   name=Mickie                        \n",
      "correct=male     guess=female   name=Mika                          \n",
      "correct=male     guess=female   name=Moe                           \n",
      "correct=male     guess=female   name=Moore                         \n",
      "correct=male     guess=female   name=Morley                        \n",
      "correct=male     guess=female   name=Mortie                        \n",
      "correct=male     guess=female   name=Neville                       \n",
      "correct=male     guess=female   name=Nickie                        \n",
      "correct=male     guess=female   name=Nikita                        \n",
      "correct=male     guess=female   name=Nikolai                       \n",
      "correct=male     guess=female   name=Noah                          \n",
      "correct=male     guess=female   name=Orbadiah                      \n",
      "correct=male     guess=female   name=Peirce                        \n",
      "correct=male     guess=female   name=Perry                         \n",
      "correct=male     guess=female   name=Pete                          \n",
      "correct=male     guess=female   name=Prince                        \n",
      "correct=male     guess=female   name=Randie                        \n",
      "correct=male     guess=female   name=Ravi                          \n",
      "correct=male     guess=female   name=Reza                          \n",
      "correct=male     guess=female   name=Rickie                        \n",
      "correct=male     guess=female   name=Rodolphe                      \n",
      "correct=male     guess=female   name=Roice                         \n",
      "correct=male     guess=female   name=Rolfe                         \n",
      "correct=male     guess=female   name=Ronnie                        \n",
      "correct=male     guess=female   name=Rory                          \n",
      "correct=male     guess=female   name=Rudy                          \n",
      "correct=male     guess=female   name=Salvatore                     \n",
      "correct=male     guess=female   name=Sandy                         \n",
      "correct=male     guess=female   name=Saxe                          \n",
      "correct=male     guess=female   name=Serge                         \n",
      "correct=male     guess=female   name=Shelby                        \n",
      "correct=male     guess=female   name=Shelley                       \n",
      "correct=male     guess=female   name=Sky                           \n",
      "correct=male     guess=female   name=Sloane                        \n",
      "correct=male     guess=female   name=Spike                         \n",
      "correct=male     guess=female   name=Stanly                        \n",
      "correct=male     guess=female   name=Stevie                        \n",
      "correct=male     guess=female   name=Tannie                        \n",
      "correct=male     guess=female   name=Tarrance                      \n",
      "correct=male     guess=female   name=Terrance                      \n",
      "correct=male     guess=female   name=Thorpe                        \n",
      "correct=male     guess=female   name=Tony                          \n",
      "correct=male     guess=female   name=Tore                          \n",
      "correct=male     guess=female   name=Torey                         \n",
      "correct=male     guess=female   name=Tulley                        \n",
      "correct=male     guess=female   name=Uri                           \n",
      "correct=male     guess=female   name=Valentine                     \n",
      "correct=male     guess=female   name=Vinny                         \n",
      "correct=male     guess=female   name=Vite                          \n",
      "correct=male     guess=female   name=Wade                          \n",
      "correct=male     guess=female   name=Wayne                         \n",
      "correct=male     guess=female   name=Weslie                        \n",
      "correct=male     guess=female   name=Willy                         \n",
      "correct=male     guess=female   name=Wolfie                        \n",
      "correct=male     guess=female   name=Yance                         \n",
      "correct=male     guess=female   name=Zacharie                      \n",
      "correct=male     guess=female   name=Zacherie                      \n",
      "correct=male     guess=female   name=Zedekiah                      \n"
     ]
    }
   ],
   "source": [
    ">>> for (tag, guess, name) in sorted(errors):\n",
    "...     print('correct={:<8} guess={:<8s} name={:<30}'.format(tag, guess, name))"
   ]
  },
  {
   "cell_type": "code",
   "execution_count": 22,
   "metadata": {
    "collapsed": true
   },
   "outputs": [],
   "source": [
    ">>> def gender_features(word):\n",
    "...     return {'suffix1': word[-1:],\n",
    "...             'suffix2': word[-2:]}"
   ]
  },
  {
   "cell_type": "code",
   "execution_count": 24,
   "metadata": {
    "collapsed": false
   },
   "outputs": [
    {
     "name": "stdout",
     "output_type": "stream",
     "text": [
      "0.76\n"
     ]
    }
   ],
   "source": [
    ">>> train_set = [(gender_features(n), gender) for (n, gender) in train_names]\n",
    ">>> devtest_set = [(gender_features(n), gender) for (n, gender) in devtest_names]\n",
    ">>> classifier = NaiveBayesClassifier.train(train_set)\n",
    ">>> print(classify.accuracy(classifier, devtest_set))"
   ]
  },
  {
   "cell_type": "code",
   "execution_count": 25,
   "metadata": {
    "collapsed": true
   },
   "outputs": [],
   "source": [
    ">>> from nltk.corpus import movie_reviews\n",
    ">>> documents = [(list(movie_reviews.words(fileid)), category)\n",
    "...              for category in movie_reviews.categories()\n",
    "...              for fileid in movie_reviews.fileids(category)]\n",
    ">>> random.shuffle(documents)"
   ]
  },
  {
   "cell_type": "code",
   "execution_count": 29,
   "metadata": {
    "collapsed": false
   },
   "outputs": [],
   "source": [
    "all_words = FreqDist(w.lower() for w in movie_reviews.words())\n",
    "word_features = list(all_words)[:2000] [1]\n",
    "\n",
    "def document_features(document):\n",
    "    document_words = set(document)\n",
    "    features = {}\n",
    "    for word in word_features:\n",
    "        features['contains({})'.format(word)] = (word in document_words)\n",
    "    return features"
   ]
  },
  {
   "cell_type": "code",
   "execution_count": 30,
   "metadata": {
    "collapsed": false
   },
   "outputs": [
    {
     "name": "stdout",
     "output_type": "stream",
     "text": [
      "{'contains(t)': False, 'contains(l)': False, 'contains(g)': False, 'contains(c)': False, 'contains(i)': False, 'contains(n)': False, 'contains(a)': True, 'contains(u)': False}\n"
     ]
    }
   ],
   "source": [
    ">>> print(document_features(movie_reviews.words('pos/cv957_8737.txt'))) \n"
   ]
  },
  {
   "cell_type": "code",
   "execution_count": 32,
   "metadata": {
    "collapsed": false
   },
   "outputs": [],
   "source": [
    "featuresets = [(document_features(d), c) for (d,c) in documents]\n",
    "train_set, test_set = featuresets[100:], featuresets[:100]\n",
    "classifier = NaiveBayesClassifier.train(train_set)"
   ]
  },
  {
   "cell_type": "code",
   "execution_count": 33,
   "metadata": {
    "collapsed": false
   },
   "outputs": [
    {
     "name": "stdout",
     "output_type": "stream",
     "text": [
      "0.56\n"
     ]
    }
   ],
   "source": [
    ">>> print(classify.accuracy(classifier, test_set))"
   ]
  },
  {
   "cell_type": "code",
   "execution_count": 34,
   "metadata": {
    "collapsed": false
   },
   "outputs": [
    {
     "name": "stdout",
     "output_type": "stream",
     "text": [
      "Most Informative Features\n",
      "             contains(t) = False             pos : neg    =      1.5 : 1.0\n",
      "             contains(c) = True              neg : pos    =      1.4 : 1.0\n",
      "             contains(i) = False             pos : neg    =      1.2 : 1.0\n",
      "             contains(u) = True              pos : neg    =      1.2 : 1.0\n",
      "             contains(g) = True              pos : neg    =      1.2 : 1.0\n"
     ]
    }
   ],
   "source": [
    ">>> classifier.show_most_informative_features(5)"
   ]
  }
 ],
 "metadata": {
  "kernelspec": {
   "display_name": "Python [Root]",
   "language": "python",
   "name": "Python [Root]"
  },
  "language_info": {
   "codemirror_mode": {
    "name": "ipython",
    "version": 3
   },
   "file_extension": ".py",
   "mimetype": "text/x-python",
   "name": "python",
   "nbconvert_exporter": "python",
   "pygments_lexer": "ipython3",
   "version": "3.5.2"
  }
 },
 "nbformat": 4,
 "nbformat_minor": 0
}
