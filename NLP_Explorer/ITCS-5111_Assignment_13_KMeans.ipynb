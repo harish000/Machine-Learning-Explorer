{
 "cells": [
  {
   "cell_type": "markdown",
   "metadata": {},
   "source": [
    "# K Means Clustering"
   ]
  },
  {
   "cell_type": "code",
   "execution_count": 177,
   "metadata": {
    "collapsed": true
   },
   "outputs": [],
   "source": [
    "import pandas as pd\n",
    "import numpy as np\n",
    "import scipy as sp\n",
    "\n",
    "from matplotlib import pyplot\n",
    "\n",
    "from sklearn.feature_extraction.text import TfidfVectorizer\n",
    "from sklearn.feature_extraction.text import TfidfTransformer\n",
    "from sklearn.datasets import fetch_20newsgroups"
   ]
  },
  {
   "cell_type": "markdown",
   "metadata": {},
   "source": [
    "### Read dataset\n",
    "#### sklearn has 20 newsgroup dataset which can be accessed"
   ]
  },
  {
   "cell_type": "code",
   "execution_count": 9,
   "metadata": {
    "collapsed": false
   },
   "outputs": [
    {
     "name": "stdout",
     "output_type": "stream",
     "text": [
      "['alt.atheism', 'comp.graphics', 'comp.os.ms-windows.misc', 'comp.sys.ibm.pc.hardware', 'comp.sys.mac.hardware', 'comp.windows.x', 'misc.forsale', 'rec.autos', 'rec.motorcycles', 'rec.sport.baseball', 'rec.sport.hockey', 'sci.crypt', 'sci.electronics', 'sci.med', 'sci.space', 'soc.religion.christian', 'talk.politics.guns', 'talk.politics.mideast', 'talk.politics.misc', 'talk.religion.misc']\n"
     ]
    }
   ],
   "source": [
    "newsgroups_train = fetch_20newsgroups(subset='train')\n",
    "print(list(newsgroups_train.target_names))"
   ]
  },
  {
   "cell_type": "markdown",
   "metadata": {},
   "source": [
    "#### Extracting data from newsgroup dataset. Using only three categories. "
   ]
  },
  {
   "cell_type": "code",
   "execution_count": 10,
   "metadata": {
    "collapsed": false
   },
   "outputs": [
    {
     "name": "stdout",
     "output_type": "stream",
     "text": [
      "Loading 20 newsgroups dataset for categories:\n",
      "['alt.atheism', 'comp.graphics', 'sci.space']\n"
     ]
    }
   ],
   "source": [
    "categories = [\n",
    "    'alt.atheism',\n",
    "    'comp.graphics',\n",
    "    'sci.space',\n",
    "]\n",
    "\n",
    "print(\"Loading 20 newsgroups dataset for categories:\")\n",
    "print(categories)\n",
    "\n",
    "dataset = fetch_20newsgroups(subset='all', categories=categories,\n",
    "                             shuffle=True, random_state=25)\n"
   ]
  },
  {
   "cell_type": "code",
   "execution_count": 11,
   "metadata": {
    "collapsed": false
   },
   "outputs": [],
   "source": [
    "labels = dataset.target\n",
    "true_k = np.unique(labels).shape[0]"
   ]
  },
  {
   "cell_type": "markdown",
   "metadata": {},
   "source": [
    "Convert the text into vectors with TF-IDF Score."
   ]
  },
  {
   "cell_type": "code",
   "execution_count": 110,
   "metadata": {
    "collapsed": false
   },
   "outputs": [
    {
     "name": "stdout",
     "output_type": "stream",
     "text": [
      "n_samples: 2000, n_features: 3\n",
      "<class 'scipy.sparse.csr.csr_matrix'>\n"
     ]
    }
   ],
   "source": [
    "vectorizer = TfidfVectorizer(max_df=0.5, max_features=3,\n",
    "                                 min_df=2, stop_words='english',\n",
    "                                 use_idf=True)\n",
    "X = vectorizer.fit_transform(dataset.data[:2000])\n",
    "\n",
    "print(\"n_samples: %d, n_features: %d\" % X.shape)\n",
    "print(type(X))"
   ]
  },
  {
   "cell_type": "code",
   "execution_count": 111,
   "metadata": {
    "collapsed": false
   },
   "outputs": [
    {
     "data": {
      "text/plain": [
       "1410"
      ]
     },
     "execution_count": 111,
     "metadata": {},
     "output_type": "execute_result"
    }
   ],
   "source": [
    "data = X.toarray()\n",
    "data = data[~np.all(data == 0, axis=1)]\n",
    "len(data)"
   ]
  },
  {
   "cell_type": "markdown",
   "metadata": {},
   "source": [
    "### k-Means using Cosine Similarity"
   ]
  },
  {
   "cell_type": "code",
   "execution_count": null,
   "metadata": {
    "collapsed": true
   },
   "outputs": [],
   "source": [
    "import nltk\n",
    "from nltk.cluster.kmeans import KMeansClusterer"
   ]
  },
  {
   "cell_type": "markdown",
   "metadata": {},
   "source": [
    "Use k-means clustering in nltk package with k as 3 and distance metric as cosine distance. Running it for 25 iterations. "
   ]
  },
  {
   "cell_type": "code",
   "execution_count": 127,
   "metadata": {
    "collapsed": false
   },
   "outputs": [],
   "source": [
    "kclusterer_cosine = KMeansClusterer(3, distance=nltk.cluster.util.cosine_distance, avoid_empty_clusters=True, repeats=25)"
   ]
  },
  {
   "cell_type": "code",
   "execution_count": 128,
   "metadata": {
    "collapsed": false,
    "scrolled": true
   },
   "outputs": [
    {
     "name": "stdout",
     "output_type": "stream",
     "text": [
      "Warning: means will be discarded for subsequent trials\n",
      "k-means trial 0\n",
      "iteration\n",
      "k-means trial 1\n",
      "iteration\n",
      "k-means trial 2\n",
      "iteration\n",
      "iteration\n",
      "iteration\n",
      "iteration\n",
      "iteration\n",
      "k-means trial 3\n",
      "iteration\n",
      "iteration\n",
      "iteration\n",
      "iteration\n",
      "iteration\n",
      "iteration\n",
      "k-means trial 4\n",
      "iteration\n",
      "iteration\n",
      "iteration\n",
      "iteration\n",
      "k-means trial 5\n",
      "iteration\n",
      "iteration\n",
      "iteration\n",
      "iteration\n",
      "iteration\n",
      "iteration\n",
      "iteration\n",
      "iteration\n",
      "k-means trial 6\n",
      "iteration\n",
      "iteration\n",
      "iteration\n",
      "iteration\n",
      "iteration\n",
      "k-means trial 7\n",
      "iteration\n",
      "iteration\n",
      "iteration\n",
      "iteration\n",
      "iteration\n",
      "k-means trial 8\n",
      "iteration\n",
      "iteration\n",
      "iteration\n",
      "iteration\n",
      "iteration\n",
      "iteration\n",
      "k-means trial 9\n",
      "iteration\n",
      "iteration\n",
      "iteration\n",
      "iteration\n",
      "iteration\n",
      "k-means trial 10\n",
      "iteration\n",
      "iteration\n",
      "iteration\n",
      "iteration\n",
      "iteration\n",
      "k-means trial 11\n",
      "iteration\n",
      "iteration\n",
      "iteration\n",
      "iteration\n",
      "iteration\n",
      "k-means trial 12\n",
      "iteration\n",
      "iteration\n",
      "iteration\n",
      "iteration\n",
      "iteration\n",
      "k-means trial 13\n",
      "iteration\n",
      "iteration\n",
      "iteration\n",
      "iteration\n",
      "k-means trial 14\n",
      "iteration\n",
      "iteration\n",
      "iteration\n",
      "iteration\n",
      "iteration\n",
      "iteration\n",
      "iteration\n",
      "k-means trial 15\n",
      "iteration\n",
      "iteration\n",
      "iteration\n",
      "iteration\n",
      "iteration\n",
      "iteration\n",
      "k-means trial 16\n",
      "iteration\n",
      "iteration\n",
      "iteration\n",
      "iteration\n",
      "iteration\n",
      "k-means trial 17\n",
      "iteration\n",
      "iteration\n",
      "iteration\n",
      "iteration\n",
      "iteration\n",
      "k-means trial 18\n",
      "iteration\n",
      "iteration\n",
      "iteration\n",
      "iteration\n",
      "iteration\n",
      "iteration\n",
      "k-means trial 19\n",
      "iteration\n",
      "iteration\n",
      "iteration\n",
      "iteration\n",
      "iteration\n",
      "iteration\n",
      "k-means trial 20\n",
      "iteration\n",
      "iteration\n",
      "iteration\n",
      "iteration\n",
      "iteration\n",
      "iteration\n",
      "iteration\n",
      "k-means trial 21\n",
      "iteration\n",
      "iteration\n",
      "iteration\n",
      "iteration\n",
      "iteration\n",
      "k-means trial 22\n",
      "iteration\n",
      "iteration\n",
      "iteration\n",
      "iteration\n",
      "iteration\n",
      "iteration\n",
      "k-means trial 23\n",
      "iteration\n",
      "iteration\n",
      "iteration\n",
      "iteration\n",
      "iteration\n",
      "k-means trial 24\n",
      "iteration\n",
      "iteration\n",
      "iteration\n",
      "iteration\n",
      "iteration\n",
      "iteration\n"
     ]
    }
   ],
   "source": [
    "assigned_clusters_cosine = kclusterer_cosine.cluster(data, assign_clusters=True,trace=True)"
   ]
  },
  {
   "cell_type": "code",
   "execution_count": 176,
   "metadata": {
    "collapsed": false
   },
   "outputs": [
    {
     "name": "stdout",
     "output_type": "stream",
     "text": [
      "[1, 2, 0, 2, 0, 2, 1, 1, 2, 1, 2, 2, 1, 0, 2, 2, 2, 1, 0, 0, 2, 2, 1, 0, 2, 0, 0, 0, 1, 0, 2, 0, 1, 1, 2, 0, 0, 2, 2, 2, 0, 0, 1, 1, 0, 2, 0, 1, 2, 0, 1, 1, 2, 1, 2, 0, 1, 0, 0, 0, 1, 1, 1, 0, 2, 2, 2, 1, 0, 0, 0, 2, 0, 0, 0, 0, 1, 1, 1, 2, 1, 1, 0, 2, 2, 1, 1, 2, 2, 1, 1, 1, 2, 0, 2, 1, 2, 1, 2, 2, 2, 1, 2, 0, 2, 2, 1, 2, 2, 2, 2, 1, 0, 2, 2, 0, 2, 1, 0, 0, 2, 2, 0, 2, 2, 2, 2, 0, 1, 0, 2, 0, 1, 1, 2, 2, 0, 0, 2, 2, 0, 1, 2, 2, 1, 2, 1, 1, 0, 1, 2, 2, 1, 1, 0, 0, 2, 0, 2, 1, 2, 1, 2, 1, 2, 0, 0, 2, 1, 1, 2, 1, 2, 2, 1, 2, 2, 2, 0, 1, 2, 0, 2, 2, 1, 1, 1, 0, 2, 0, 1, 0, 2, 2, 2, 0, 2, 0, 0, 2, 0, 0, 0, 0, 0, 1, 2, 1, 1, 0, 2, 1, 2, 0, 2, 0, 1, 0, 2, 2, 2, 2, 2, 1, 0, 2, 2, 0, 2, 2, 2, 0, 2, 2, 0, 2, 1, 2, 2, 0, 1, 2, 1, 2, 2, 2, 2, 2, 0, 2, 2, 2, 1, 1, 2, 0, 0, 2, 0, 1, 0, 1, 0, 0, 0, 0, 2, 2, 2, 0, 1, 1, 2, 0, 2, 0, 2, 2, 2, 2, 1, 1, 0, 2, 2, 1, 2, 1, 2, 0, 2, 1, 2, 0, 0, 0, 1, 2, 2, 0, 2, 1, 0, 2, 1, 0, 1, 2, 0, 0, 1, 2, 1, 1, 0, 2, 1, 2, 2, 0, 0, 2, 0, 0, 1, 1, 2, 2, 2, 0, 0, 2, 2, 0, 1, 2, 2, 0, 2, 1, 0, 2, 1, 1, 2, 1, 2, 0, 1, 2, 2, 2, 2, 1, 1, 2, 0, 2, 1, 1, 2, 0, 0, 0, 0, 1, 2, 1, 2, 2, 0, 0, 2, 2, 0, 0, 0, 2, 0, 0, 0, 1, 2, 2, 2, 2, 1, 0, 0, 0, 1, 2, 2, 1, 1, 2, 0, 1, 1, 2, 0, 2, 1, 2, 1, 1, 2, 2, 1, 2, 2, 2, 0, 2, 1, 1, 1, 1, 2, 1, 2, 1, 1, 2, 1, 1, 0, 2, 2, 0, 0, 2, 0, 2, 2, 1, 0, 1, 0, 1, 0, 2, 1, 0, 0, 2, 1, 2, 1, 1, 0, 2, 0, 1, 2, 1, 0, 0, 0, 0, 0, 1, 2, 2, 0, 0, 0, 1, 2, 2, 2, 0, 0, 0, 2, 0, 2, 0, 2, 1, 1, 1, 0, 2, 1, 2, 0, 2, 2, 0, 0, 1, 2, 0, 2, 2, 2, 2, 2, 0, 2, 0, 2, 1, 2, 1, 1, 1, 1, 1, 1, 0, 2, 0, 2, 0, 2, 2, 2, 2, 2, 2, 2, 2, 2, 0, 1, 2, 2, 0, 1, 2, 0, 2, 1, 2, 2, 2, 0, 1, 0, 1, 2, 2, 0, 2, 2, 1, 1, 2, 1, 1, 1, 0, 2, 1, 0, 0, 2, 1, 2, 0, 1, 2, 2, 0, 1, 2, 2, 1, 1, 0, 1, 2, 0, 0, 0, 0, 0, 0, 2, 0, 1, 1, 2, 0, 0, 2, 0, 2, 1, 1, 2, 2, 0, 2, 0, 0, 1, 1, 1, 2, 0, 0, 2, 0, 0, 1, 1, 1, 2, 2, 1, 2, 2, 2, 2, 0, 2, 1, 0, 2, 2, 0, 1, 0, 2, 0, 0, 2, 1, 2, 0, 1, 2, 2, 2, 2, 2, 2, 1, 0, 0, 1, 1, 1, 2, 2, 1, 2, 2, 0, 1, 2, 2, 2, 2, 1, 2, 2, 2, 0, 2, 2, 0, 2, 2, 0, 2, 0, 2, 0, 0, 2, 0, 1, 2, 1, 2, 0, 0, 2, 2, 2, 0, 0, 2, 2, 1, 2, 1, 2, 1, 2, 1, 0, 2, 2, 1, 0, 1, 0, 2, 1, 2, 0, 1, 2, 1, 2, 1, 0, 1, 1, 0, 1, 0, 2, 2, 0, 2, 2, 1, 0, 1, 1, 1, 0, 0, 1, 2, 1, 2, 0, 2, 2, 0, 0, 2, 0, 1, 2, 1, 2, 0, 1, 2, 0, 1, 2, 2, 0, 0, 2, 0, 2, 2, 2, 0, 2, 1, 0, 0, 2, 2, 1, 2, 2, 0, 1, 2, 1, 1, 2, 1, 0, 2, 0, 1, 0, 2, 1, 2, 2, 2, 0, 2, 1, 0, 2, 2, 2, 2, 2, 2, 1, 0, 1, 0, 1, 2, 1, 2, 2, 2, 0, 2, 0, 2, 1, 2, 2, 1, 1, 2, 2, 0, 2, 1, 1, 2, 2, 0, 2, 0, 2, 2, 1, 2, 1, 1, 1, 0, 2, 0, 0, 2, 1, 1, 2, 2, 0, 2, 2, 0, 1, 2, 1, 2, 0, 1, 2, 2, 0, 2, 2, 0, 1, 2, 2, 2, 1, 1, 2, 0, 0, 0, 0, 2, 1, 2, 1, 2, 0, 2, 1, 2, 1, 1, 2, 2, 0, 0, 2, 2, 2, 2, 0, 0, 2, 0, 1, 2, 2, 1, 2, 2, 0, 0, 0, 2, 0, 2, 0, 2, 2, 0, 2, 0, 1, 2, 0, 0, 2, 2, 2, 2, 0, 1, 0, 0, 1, 2, 2, 1, 0, 2, 2, 0, 1, 2, 2, 1, 2, 2, 2, 1, 0, 1, 0, 2, 2, 2, 1, 1, 2, 0, 0, 0, 2, 0, 2, 1, 1, 0, 1, 2, 2, 0, 2, 0, 1, 0, 2, 0, 2, 2, 2, 2, 1, 1, 0, 2, 2, 2, 1, 0, 0, 0, 0, 2, 2, 0, 1, 1, 2, 1, 2, 1, 1, 2, 1, 1, 0, 1, 2, 2, 1, 2, 1, 0, 2, 2, 1, 0, 1, 2, 2, 1, 2, 1, 2, 2, 2, 2, 1, 2, 2, 1, 0, 2, 0, 1, 2, 2, 0, 0, 2, 2, 2, 0, 0, 2, 0, 2, 0, 2, 0, 2, 2, 0, 0, 2, 2, 2, 0, 0, 0, 0, 2, 2, 0, 2, 1, 1, 1, 1, 1, 2, 2, 0, 2, 2, 2, 2, 2, 0, 1, 2, 2, 2, 2, 1, 2, 1, 2, 2, 2, 2, 1, 1, 2, 1, 0, 0, 1, 1, 2, 0, 0, 1, 2, 0, 2, 1, 1, 2, 0, 0, 0, 1, 2, 1, 0, 2, 1, 0, 2, 0, 1, 1, 1, 2, 1, 2, 0, 0, 2, 2, 0, 0, 0, 2, 0, 0, 0, 0, 2, 2, 1, 2, 1, 0, 2, 1, 1, 2, 2, 2, 2, 0, 1, 1, 1, 0, 2, 2, 1, 2, 1, 2, 2, 2, 2, 0, 2, 2, 2, 0, 2, 2, 0, 2, 2, 2, 1, 2, 1, 2, 1, 1, 2, 2, 2, 2, 2, 1, 0, 0, 2, 0, 2, 2, 0, 2, 0, 1, 2, 0, 0, 2, 0, 1, 1, 0, 2, 0, 2, 2, 2, 2, 2, 1, 0, 2, 0, 0, 1, 0, 2, 0, 2, 1, 2, 2, 0, 2, 0, 0, 0, 2, 2, 0, 2, 0, 1, 0, 2, 1, 2, 2, 0, 1, 1, 0, 0, 0, 2, 1, 1, 2, 2, 0, 1, 1, 2, 1, 1, 1, 0, 0, 0, 2, 2, 2, 2, 2, 2, 0, 2, 2, 0, 2, 2, 2, 2, 2, 1, 2, 1, 2, 1, 2, 1, 0, 2, 0, 1, 1, 2, 2, 2, 2, 1, 2, 0, 2, 1, 2, 2, 0, 2, 2, 2, 2, 0, 1, 2, 0, 1, 0, 0, 0, 1, 1, 1, 0, 0, 2, 2, 1, 1, 2, 1, 2, 0, 0, 2, 0, 0, 1, 0, 0, 2, 0, 2, 0, 2, 0, 2, 1, 1, 0, 0, 2, 2, 2, 2, 2, 0, 0, 2, 2, 0, 1, 2, 2, 1, 2, 0, 1, 0, 2, 2, 2, 0, 1, 0, 1, 0, 0, 0, 1, 2, 1, 2, 2, 1, 2, 1, 0, 0, 2, 2, 0, 2, 0, 0, 2, 0, 1, 2, 0, 0, 1, 0, 0, 1, 2, 2, 2, 0, 2, 2, 2, 2, 2, 2, 2, 2, 1, 1, 1, 0, 0, 2, 0, 0, 0, 2]\n"
     ]
    }
   ],
   "source": [
    "print(assigned_clusters_cosine)"
   ]
  },
  {
   "cell_type": "markdown",
   "metadata": {},
   "source": [
    "### k-Means using Manhattan Distance"
   ]
  },
  {
   "cell_type": "code",
   "execution_count": 183,
   "metadata": {
    "collapsed": false
   },
   "outputs": [],
   "source": [
    "def kcluster(rows,distance=manhattan,k=3):\n",
    "    ranges=[(min([row[i] for row in rows]),max([row[i] for row in rows])) for i in range(len(rows[0]))]\n",
    "\n",
    "    clusters=[[random.random( )*(ranges[i][1]-ranges[i][0])+ranges[i][0] for i in range(len(rows[0]))] for j in range(k)]\n",
    "    lastmatches=None\n",
    "    for t in range(25):\n",
    "        print( 'iteration %d' % t)\n",
    "        bestmatches=[[] for i in range(k)]\n",
    "        for j in range(len(rows)):\n",
    "            row=rows[j]\n",
    "            bestmatch=0\n",
    "            for i in range(k):\n",
    "                d=distance(clusters[i],row)\n",
    "                if d<distance(clusters[bestmatch],row): \n",
    "                    bestmatch=i\n",
    "            bestmatches[bestmatch].append(j)\n",
    "        if bestmatches==lastmatches:\n",
    "            break\n",
    "        lastmatches=bestmatches\n",
    "        for i in range(k):\n",
    "            avgs=[0.0]*len(rows[0])\n",
    "            if len(bestmatches[i])>0:\n",
    "                for rowid in bestmatches[i]:\n",
    "                    for m in range(len(rows[rowid])):\n",
    "                        avgs[m]+=rows[rowid][m]\n",
    "                for j in range(len(avgs)):\n",
    "                    avgs[j]/=len(bestmatches[i])\n",
    "                clusters[i]=avgs\n",
    "    return bestmatches"
   ]
  },
  {
   "cell_type": "code",
   "execution_count": 184,
   "metadata": {
    "collapsed": true
   },
   "outputs": [],
   "source": [
    "import random\n",
    "def manhattan(v1,v2):\n",
    "    if(len(v1)!=len(v2)):\n",
    "        print('ERROR!!')\n",
    "        return -1\n",
    "    return sum([abs(v1[i]-v2[i]) for i in range(len(v1))])"
   ]
  },
  {
   "cell_type": "code",
   "execution_count": 185,
   "metadata": {
    "collapsed": false
   },
   "outputs": [
    {
     "name": "stdout",
     "output_type": "stream",
     "text": [
      "iteration 0\n",
      "iteration 1\n",
      "iteration 2\n",
      "iteration 3\n"
     ]
    }
   ],
   "source": [
    "bestmatch = kcluster(data)"
   ]
  },
  {
   "cell_type": "code",
   "execution_count": 155,
   "metadata": {
    "collapsed": false
   },
   "outputs": [
    {
     "data": {
      "text/plain": [
       "3"
      ]
     },
     "execution_count": 155,
     "metadata": {},
     "output_type": "execute_result"
    }
   ],
   "source": [
    "len(bestmatch)"
   ]
  },
  {
   "cell_type": "code",
   "execution_count": 157,
   "metadata": {
    "collapsed": false
   },
   "outputs": [],
   "source": [
    "bestmatch = np.asarray(bestmatch)"
   ]
  },
  {
   "cell_type": "code",
   "execution_count": 174,
   "metadata": {
    "collapsed": false
   },
   "outputs": [
    {
     "name": "stdout",
     "output_type": "stream",
     "text": [
      "[2, 1, 0, 1, 0, 1, 2, 2, 1, 2, 1, 1, 2, 0, 1, 1, 1, 2, 0, 0, 1, 1, 2, 0, 1, 0, 0, 0, 2, 0, 1, 0, 2, 2, 1, 0, 0, 1, 1, 1, 0, 0, 2, 2, 0, 1, 0, 2, 1, 0, 2, 2, 1, 2, 1, 0, 2, 0, 0, 0, 2, 2, 2, 0, 1, 1, 1, 2, 0, 0, 0, 1, 0, 0, 0, 0, 2, 2, 2, 1, 2, 2, 0, 1, 1, 2, 2, 1, 1, 2, 2, 2, 1, 0, 1, 2, 1, 2, 1, 1, 1, 2, 1, 0, 1, 1, 2, 1, 1, 1, 1, 2, 0, 1, 1, 0, 1, 2, 0, 0, 1, 1, 0, 1, 1, 1, 1, 0, 2, 0, 1, 0, 2, 2, 1, 1, 0, 0, 1, 1, 0, 2, 1, 1, 2, 1, 2, 2, 0, 2, 1, 1, 2, 2, 0, 0, 1, 0, 1, 2, 1, 2, 1, 2, 1, 0, 0, 1, 2, 2, 1, 2, 1, 1, 2, 1, 1, 1, 0, 2, 1, 0, 1, 1, 2, 2, 2, 0, 1, 0, 2, 0, 1, 1, 1, 0, 1, 0, 0, 1, 0, 0, 0, 0, 0, 2, 1, 2, 2, 0, 1, 2, 1, 0, 1, 0, 2, 0, 1, 1, 1, 1, 1, 2, 0, 1, 1, 0, 1, 1, 1, 0, 1, 1, 0, 1, 2, 1, 1, 0, 2, 1, 2, 1, 1, 1, 1, 1, 0, 1, 1, 1, 2, 2, 1, 0, 0, 1, 0, 2, 0, 2, 0, 0, 0, 0, 1, 1, 1, 0, 2, 2, 1, 0, 1, 0, 1, 1, 1, 1, 2, 2, 0, 1, 1, 2, 1, 2, 1, 0, 1, 2, 1, 0, 0, 0, 2, 1, 1, 0, 1, 2, 0, 1, 2, 0, 2, 1, 0, 0, 2, 1, 2, 2, 0, 1, 2, 1, 1, 0, 0, 1, 0, 0, 2, 2, 1, 1, 1, 0, 0, 1, 1, 0, 2, 1, 1, 0, 1, 2, 0, 1, 2, 2, 1, 2, 1, 0, 2, 1, 1, 1, 1, 2, 2, 1, 0, 1, 2, 2, 1, 0, 0, 0, 0, 2, 1, 2, 1, 1, 0, 0, 1, 1, 0, 0, 0, 1, 0, 0, 0, 2, 1, 1, 1, 1, 2, 0, 0, 0, 2, 1, 1, 2, 2, 1, 0, 2, 2, 1, 0, 1, 2, 1, 2, 2, 1, 1, 2, 1, 1, 1, 0, 1, 2, 2, 2, 2, 1, 2, 1, 2, 2, 1, 2, 2, 0, 1, 1, 0, 0, 1, 0, 1, 1, 2, 0, 2, 0, 2, 0, 1, 2, 0, 0, 1, 2, 1, 2, 2, 0, 1, 0, 2, 1, 2, 0, 0, 0, 0, 0, 2, 1, 1, 0, 0, 0, 2, 1, 1, 1, 0, 0, 0, 1, 0, 1, 0, 1, 2, 2, 2, 0, 1, 2, 1, 0, 1, 1, 0, 0, 2, 1, 0, 1, 1, 1, 1, 1, 0, 1, 0, 1, 2, 1, 2, 2, 2, 2, 2, 2, 0, 1, 0, 1, 0, 1, 1, 1, 1, 1, 1, 1, 1, 1, 0, 2, 1, 1, 0, 2, 1, 0, 1, 2, 1, 1, 1, 0, 2, 0, 2, 1, 1, 0, 1, 1, 2, 2, 1, 2, 2, 2, 0, 1, 2, 0, 0, 1, 2, 1, 0, 2, 1, 1, 0, 2, 1, 1, 2, 2, 0, 2, 1, 0, 0, 0, 0, 0, 0, 1, 0, 2, 2, 1, 0, 0, 1, 0, 1, 2, 2, 1, 1, 0, 1, 0, 0, 2, 2, 2, 1, 0, 0, 1, 0, 0, 2, 2, 2, 1, 1, 2, 1, 1, 1, 1, 0, 1, 2, 0, 1, 1, 0, 2, 0, 1, 0, 0, 1, 2, 1, 0, 2, 1, 1, 1, 1, 1, 1, 2, 0, 0, 2, 2, 2, 1, 1, 2, 1, 1, 0, 2, 1, 1, 1, 1, 2, 1, 1, 1, 0, 1, 1, 0, 1, 1, 0, 1, 0, 1, 0, 0, 1, 0, 2, 1, 2, 1, 0, 0, 1, 1, 1, 0, 0, 1, 1, 2, 1, 2, 1, 2, 1, 2, 0, 1, 1, 2, 0, 2, 0, 1, 2, 1, 0, 2, 1, 2, 1, 2, 0, 2, 2, 0, 2, 0, 1, 1, 0, 1, 1, 2, 0, 2, 2, 2, 0, 0, 2, 1, 2, 1, 0, 1, 1, 0, 0, 1, 0, 2, 1, 2, 1, 0, 2, 1, 0, 2, 1, 1, 0, 0, 1, 0, 1, 1, 1, 0, 1, 2, 0, 0, 1, 1, 2, 1, 1, 0, 2, 1, 2, 2, 1, 2, 0, 1, 0, 2, 0, 1, 2, 1, 1, 1, 0, 1, 2, 0, 1, 1, 1, 1, 1, 1, 2, 0, 2, 0, 2, 1, 2, 1, 1, 1, 0, 1, 0, 1, 2, 1, 1, 2, 2, 1, 1, 0, 1, 2, 2, 1, 1, 0, 1, 0, 1, 1, 2, 1, 2, 2, 2, 0, 1, 0, 0, 1, 2, 2, 1, 1, 0, 1, 1, 0, 2, 1, 2, 1, 0, 2, 1, 1, 0, 1, 1, 0, 2, 1, 1, 1, 2, 2, 1, 0, 0, 0, 0, 1, 2, 1, 2, 1, 0, 1, 2, 1, 2, 2, 1, 1, 0, 0, 1, 1, 1, 1, 0, 0, 1, 0, 2, 1, 1, 2, 1, 1, 0, 0, 0, 1, 0, 1, 0, 1, 1, 0, 1, 0, 2, 1, 0, 0, 1, 1, 1, 1, 0, 2, 0, 0, 2, 1, 1, 2, 0, 1, 1, 0, 2, 1, 1, 2, 1, 1, 1, 2, 0, 2, 0, 1, 1, 1, 2, 2, 1, 0, 0, 0, 1, 0, 1, 2, 2, 0, 2, 1, 1, 0, 1, 0, 2, 0, 1, 0, 1, 1, 1, 1, 2, 2, 0, 1, 1, 1, 2, 0, 0, 0, 0, 1, 1, 0, 2, 2, 1, 2, 1, 2, 2, 1, 2, 2, 0, 2, 1, 1, 2, 1, 2, 0, 1, 1, 2, 0, 2, 1, 1, 2, 1, 2, 1, 1, 1, 1, 2, 1, 1, 2, 0, 1, 0, 2, 1, 1, 0, 0, 1, 1, 1, 0, 0, 1, 0, 1, 0, 1, 0, 1, 1, 0, 0, 1, 1, 1, 0, 0, 0, 0, 1, 1, 0, 1, 2, 2, 2, 2, 2, 1, 1, 0, 1, 1, 1, 1, 1, 0, 2, 1, 1, 1, 1, 2, 1, 2, 1, 1, 1, 1, 2, 2, 1, 2, 0, 0, 2, 2, 1, 0, 0, 2, 1, 0, 1, 2, 2, 1, 0, 0, 0, 2, 1, 2, 0, 1, 2, 0, 1, 0, 2, 2, 2, 1, 2, 1, 0, 0, 1, 2, 0, 0, 0, 1, 0, 0, 0, 0, 1, 1, 2, 1, 2, 0, 1, 2, 2, 1, 1, 1, 1, 0, 2, 2, 2, 0, 1, 1, 2, 1, 2, 1, 1, 1, 1, 0, 1, 1, 1, 0, 1, 1, 0, 1, 1, 1, 2, 1, 2, 1, 2, 2, 1, 1, 1, 1, 1, 2, 0, 0, 1, 0, 1, 1, 0, 1, 0, 2, 1, 0, 0, 1, 0, 2, 2, 0, 1, 0, 1, 1, 1, 1, 1, 2, 0, 1, 0, 0, 2, 0, 1, 0, 1, 2, 1, 1, 0, 1, 0, 0, 0, 1, 1, 0, 1, 0, 2, 0, 1, 2, 1, 1, 0, 2, 2, 0, 0, 0, 1, 2, 2, 1, 1, 0, 2, 2, 1, 2, 2, 2, 0, 0, 0, 1, 1, 1, 1, 1, 1, 0, 1, 1, 0, 1, 1, 1, 1, 1, 2, 1, 2, 1, 2, 1, 2, 0, 1, 0, 2, 2, 1, 1, 1, 1, 2, 1, 0, 1, 2, 1, 1, 0, 1, 1, 1, 1, 0, 2, 1, 0, 2, 0, 0, 0, 2, 2, 2, 0, 0, 1, 1, 2, 2, 1, 2, 1, 0, 0, 1, 0, 0, 2, 0, 0, 1, 0, 1, 0, 1, 0, 1, 2, 2, 0, 0, 1, 1, 1, 1, 1, 0, 0, 1, 1, 0, 2, 1, 1, 2, 1, 0, 2, 0, 1, 1, 1, 0, 2, 0, 2, 0, 0, 0, 2, 1, 2, 1, 1, 2, 1, 2, 0, 0, 1, 1, 0, 1, 0, 0, 1, 0, 2, 1, 0, 0, 2, 0, 0, 2, 1, 1, 1, 0, 1, 1, 1, 1, 1, 1, 1, 1, 2, 2, 2, 0, 0, 1, 0, 0, 0, 1]\n"
     ]
    }
   ],
   "source": [
    "count = 0\n",
    "assigned_clusters_manhattan = [0]*len(data)\n",
    "for i in bestmatch:\n",
    "    for j in bestmatch[count]:\n",
    "        assigned_clusters_manhattan[j] = count\n",
    "    count = count+1\n",
    "    \n",
    "print(assigned_clusters_manhattan)\n",
    "        "
   ]
  }
 ],
 "metadata": {
  "anaconda-cloud": {},
  "kernelspec": {
   "display_name": "Python [Root]",
   "language": "python",
   "name": "Python [Root]"
  },
  "language_info": {
   "codemirror_mode": {
    "name": "ipython",
    "version": 3
   },
   "file_extension": ".py",
   "mimetype": "text/x-python",
   "name": "python",
   "nbconvert_exporter": "python",
   "pygments_lexer": "ipython3",
   "version": "3.5.2"
  }
 },
 "nbformat": 4,
 "nbformat_minor": 0
}
